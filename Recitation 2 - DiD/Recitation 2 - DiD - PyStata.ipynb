{
 "cells": [
  {
   "cell_type": "code",
   "execution_count": 1,
   "id": "6efbe2c6",
   "metadata": {
    "scrolled": true
   },
   "outputs": [
    {
     "name": "stdout",
     "output_type": "stream",
     "text": [
      "\n",
      "  ___  ____  ____  ____  ____ ®\n",
      " /__    /   ____/   /   ____/      18.0\n",
      "___/   /   /___/   /   /___/       SE—Standard Edition\n",
      "\n",
      " Statistics and Data Science       Copyright 1985-2023 StataCorp LLC\n",
      "                                   StataCorp\n",
      "                                   4905 Lakeway Drive\n",
      "                                   College Station, Texas 77845 USA\n",
      "                                   800-STATA-PC        https://www.stata.com\n",
      "                                   979-696-4600        stata@stata.com\n",
      "\n",
      "Stata license: Unlimited-user network, expiring 31 Aug 2024\n",
      "Serial number: 401809300159\n",
      "  Licensed to: Bruno Komel\n",
      "               University of Pittsburgh\n",
      "\n",
      "Notes:\n",
      "      1. Unicode is supported; see help unicode_advice.\n",
      "      2. Maximum number of variables is set to 5,000 but can be increased;\n",
      "          see help set_maxvar.\n"
     ]
    }
   ],
   "source": [
    "import stata_setup\n",
    "import pandas as pd\n",
    "stata_setup.config(\"/Applications/STATA\",\"se\")"
   ]
  },
  {
   "cell_type": "code",
   "execution_count": 4,
   "id": "470c33fd",
   "metadata": {
    "scrolled": true
   },
   "outputs": [
    {
     "name": "stdout",
     "output_type": "stream",
     "text": [
      "\n",
      ". \n",
      ". global data  \"/Users/brunokomel/Documents/Pitt/Year 3/TA - Econ 3080/econ-308\n",
      "> 0-recitations\"\n",
      "\n",
      ". global working  \"/Users/brunokomel/Documents/Pitt/Year 3/TA - Econ 3080/econ-\n",
      "> 3080-recitations/Recitation 2 - DiD\"\n",
      "\n",
      ". \n"
     ]
    }
   ],
   "source": [
    "%%stata\n",
    "\n",
    "global data  \"/Users/brunokomel/Documents/Pitt/Year 3/TA - Econ 3080/econ-3080-recitations\"\n",
    "global working  \"/Users/brunokomel/Documents/Pitt/Year 3/TA - Econ 3080/econ-3080-recitations/Recitation 2 - DiD\""
   ]
  },
  {
   "cell_type": "code",
   "execution_count": 5,
   "id": "cc48ab05",
   "metadata": {},
   "outputs": [
    {
     "name": "stdout",
     "output_type": "stream",
     "text": [
      "\n",
      ". \n",
      ". cd \"${data}\"\n",
      "/Users/brunokomel/Documents/Pitt/Year 3/TA - Econ 3080/econ-3080-recitations\n",
      "\n",
      ". \n"
     ]
    }
   ],
   "source": [
    "%%stata\n",
    "\n",
    "cd \"${data}\""
   ]
  },
  {
   "cell_type": "code",
   "execution_count": 6,
   "id": "496cdec5",
   "metadata": {},
   "outputs": [
    {
     "name": "stdout",
     "output_type": "stream",
     "text": [
      "\n",
      ". \n",
      ". set scheme gg_tableau\n",
      "\n",
      ". \n"
     ]
    }
   ],
   "source": [
    "%%stata\n",
    "\n",
    "set scheme gg_tableau"
   ]
  },
  {
   "cell_type": "code",
   "execution_count": 7,
   "id": "890f9605",
   "metadata": {},
   "outputs": [
    {
     "ename": "SystemError",
     "evalue": "\n. \n. # Import data */\nUnknown #command\n. infile SHEET CHAIN CO_OWNED STATE SOUTHJ CENTRALJ NORTHJ PA1 PA2      ///\n>        SHORE NCALLS EMPFT EMPPT NMGRS WAGE_ST INCTIME FIRSTINC BONUS  ///\n>        PCTAFF MEALS OPEN HRSOPEN PSODA PFRY PENTREE NREGS NREGS11     ///\n>        TYPE2 STATUS2 DATE2 NCALLS2 EMPFT2 EMPPT2 NMGRS2 WAGE_ST2      ///\n>        INCTIME2 FIRSTIN2 SPECIAL2 MEALS2 OPEN2R HRSOPEN2 PSODA2 PFRY2 ///\n>        PENTREE2 NREGS2 NREGS112 using \"public.dat\", clear\nfile public.dat not found\nr(601);\nr(601);\n",
     "output_type": "error",
     "traceback": [
      "\u001b[0;31m---------------------------------------------------------------------------\u001b[0m",
      "\u001b[0;31mSystemError\u001b[0m                               Traceback (most recent call last)",
      "Input \u001b[0;32mIn [7]\u001b[0m, in \u001b[0;36m<cell line: 1>\u001b[0;34m()\u001b[0m\n\u001b[0;32m----> 1\u001b[0m \u001b[43mget_ipython\u001b[49m\u001b[43m(\u001b[49m\u001b[43m)\u001b[49m\u001b[38;5;241;43m.\u001b[39;49m\u001b[43mrun_cell_magic\u001b[49m\u001b[43m(\u001b[49m\u001b[38;5;124;43m'\u001b[39;49m\u001b[38;5;124;43mstata\u001b[39;49m\u001b[38;5;124;43m'\u001b[39;49m\u001b[43m,\u001b[49m\u001b[43m \u001b[49m\u001b[38;5;124;43m'\u001b[39;49m\u001b[38;5;124;43m'\u001b[39;49m\u001b[43m,\u001b[49m\u001b[43m \u001b[49m\u001b[38;5;124;43m'\u001b[39;49m\u001b[38;5;130;43;01m\\n\u001b[39;49;00m\u001b[38;5;124;43m# Import data */\u001b[39;49m\u001b[38;5;130;43;01m\\n\u001b[39;49;00m\u001b[38;5;124;43minfile SHEET CHAIN CO_OWNED STATE SOUTHJ CENTRALJ NORTHJ PA1 PA2      ///\u001b[39;49m\u001b[38;5;130;43;01m\\n\u001b[39;49;00m\u001b[38;5;124;43m       SHORE NCALLS EMPFT EMPPT NMGRS WAGE_ST INCTIME FIRSTINC BONUS  ///\u001b[39;49m\u001b[38;5;130;43;01m\\n\u001b[39;49;00m\u001b[38;5;124;43m       PCTAFF MEALS OPEN HRSOPEN PSODA PFRY PENTREE NREGS NREGS11     ///\u001b[39;49m\u001b[38;5;130;43;01m\\n\u001b[39;49;00m\u001b[38;5;124;43m       TYPE2 STATUS2 DATE2 NCALLS2 EMPFT2 EMPPT2 NMGRS2 WAGE_ST2      ///\u001b[39;49m\u001b[38;5;130;43;01m\\n\u001b[39;49;00m\u001b[38;5;124;43m       INCTIME2 FIRSTIN2 SPECIAL2 MEALS2 OPEN2R HRSOPEN2 PSODA2 PFRY2 ///\u001b[39;49m\u001b[38;5;130;43;01m\\n\u001b[39;49;00m\u001b[38;5;124;43m       PENTREE2 NREGS2 NREGS112 using \u001b[39;49m\u001b[38;5;124;43m\"\u001b[39;49m\u001b[38;5;124;43mpublic.dat\u001b[39;49m\u001b[38;5;124;43m\"\u001b[39;49m\u001b[38;5;124;43m, clear\u001b[39;49m\u001b[38;5;130;43;01m\\n\u001b[39;49;00m\u001b[38;5;130;43;01m\\n\u001b[39;49;00m\u001b[38;5;124;43m# Label the state variables and values */\u001b[39;49m\u001b[38;5;130;43;01m\\n\u001b[39;49;00m\u001b[38;5;124;43mlabel var STATE \u001b[39;49m\u001b[38;5;124;43m\"\u001b[39;49m\u001b[38;5;124;43mState\u001b[39;49m\u001b[38;5;124;43m\"\u001b[39;49m\u001b[38;5;130;43;01m\\n\u001b[39;49;00m\u001b[38;5;124;43mlabel define state_labels 0 \u001b[39;49m\u001b[38;5;124;43m\"\u001b[39;49m\u001b[38;5;124;43mPA\u001b[39;49m\u001b[38;5;124;43m\"\u001b[39;49m\u001b[38;5;124;43m 1 \u001b[39;49m\u001b[38;5;124;43m\"\u001b[39;49m\u001b[38;5;124;43mNJ\u001b[39;49m\u001b[38;5;124;43m\"\u001b[39;49m\u001b[38;5;130;43;01m\\n\u001b[39;49;00m\u001b[38;5;124;43mlabel values STATE state_labels\u001b[39;49m\u001b[38;5;130;43;01m\\n\u001b[39;49;00m\u001b[38;5;130;43;01m\\n\u001b[39;49;00m\u001b[38;5;124;43m# Calculate FTE employement */\u001b[39;49m\u001b[38;5;130;43;01m\\n\u001b[39;49;00m\u001b[38;5;124;43mgen FTE  = EMPFT  + 0.5 * EMPPT  + NMGRS\u001b[39;49m\u001b[38;5;130;43;01m\\n\u001b[39;49;00m\u001b[38;5;124;43mlabel var FTE  \u001b[39;49m\u001b[38;5;124;43m\"\u001b[39;49m\u001b[38;5;124;43mFTE employment before\u001b[39;49m\u001b[38;5;124;43m\"\u001b[39;49m\u001b[38;5;130;43;01m\\n\u001b[39;49;00m\u001b[38;5;124;43mgen FTE2 = EMPFT2 + 0.5 * EMPPT2 + NMGRS2\u001b[39;49m\u001b[38;5;130;43;01m\\n\u001b[39;49;00m\u001b[38;5;124;43mlabel var FTE2 \u001b[39;49m\u001b[38;5;124;43m\"\u001b[39;49m\u001b[38;5;124;43mFTE employment after\u001b[39;49m\u001b[38;5;124;43m\"\u001b[39;49m\u001b[38;5;130;43;01m\\n\u001b[39;49;00m\u001b[38;5;130;43;01m\\n\u001b[39;49;00m\u001b[38;5;124;43mgen dif = FTE - FTE2\u001b[39;49m\u001b[38;5;130;43;01m\\n\u001b[39;49;00m\u001b[38;5;124;43m'\u001b[39;49m\u001b[43m)\u001b[49m\n",
      "File \u001b[0;32m/Library/Frameworks/Python.framework/Versions/3.10/lib/python3.10/site-packages/IPython/core/interactiveshell.py:2358\u001b[0m, in \u001b[0;36mInteractiveShell.run_cell_magic\u001b[0;34m(self, magic_name, line, cell)\u001b[0m\n\u001b[1;32m   2356\u001b[0m \u001b[38;5;28;01mwith\u001b[39;00m \u001b[38;5;28mself\u001b[39m\u001b[38;5;241m.\u001b[39mbuiltin_trap:\n\u001b[1;32m   2357\u001b[0m     args \u001b[38;5;241m=\u001b[39m (magic_arg_s, cell)\n\u001b[0;32m-> 2358\u001b[0m     result \u001b[38;5;241m=\u001b[39m \u001b[43mfn\u001b[49m\u001b[43m(\u001b[49m\u001b[38;5;241;43m*\u001b[39;49m\u001b[43margs\u001b[49m\u001b[43m,\u001b[49m\u001b[43m \u001b[49m\u001b[38;5;241;43m*\u001b[39;49m\u001b[38;5;241;43m*\u001b[39;49m\u001b[43mkwargs\u001b[49m\u001b[43m)\u001b[49m\n\u001b[1;32m   2359\u001b[0m \u001b[38;5;28;01mreturn\u001b[39;00m result\n",
      "File \u001b[0;32m/Applications/STATA/utilities/pystata/ipython/stpymagic.py:276\u001b[0m, in \u001b[0;36mPyStataMagic.stata\u001b[0;34m(self, line, cell, local_ns)\u001b[0m\n\u001b[1;32m    274\u001b[0m     _stata\u001b[38;5;241m.\u001b[39mrun(cell, quietly\u001b[38;5;241m=\u001b[39m\u001b[38;5;28;01mTrue\u001b[39;00m, inline\u001b[38;5;241m=\u001b[39m_config\u001b[38;5;241m.\u001b[39mstconfig[\u001b[38;5;124m'\u001b[39m\u001b[38;5;124mgrshow\u001b[39m\u001b[38;5;124m'\u001b[39m])\n\u001b[1;32m    275\u001b[0m \u001b[38;5;28;01melse\u001b[39;00m:\n\u001b[0;32m--> 276\u001b[0m     \u001b[43m_stata\u001b[49m\u001b[38;5;241;43m.\u001b[39;49m\u001b[43mrun\u001b[49m\u001b[43m(\u001b[49m\u001b[43mcell\u001b[49m\u001b[43m,\u001b[49m\u001b[43m \u001b[49m\u001b[43mquietly\u001b[49m\u001b[38;5;241;43m=\u001b[39;49m\u001b[38;5;28;43;01mFalse\u001b[39;49;00m\u001b[43m,\u001b[49m\u001b[43m \u001b[49m\u001b[43minline\u001b[49m\u001b[38;5;241;43m=\u001b[39;49m\u001b[43m_config\u001b[49m\u001b[38;5;241;43m.\u001b[39;49m\u001b[43mstconfig\u001b[49m\u001b[43m[\u001b[49m\u001b[38;5;124;43m'\u001b[39;49m\u001b[38;5;124;43mgrshow\u001b[39;49m\u001b[38;5;124;43m'\u001b[39;49m\u001b[43m]\u001b[49m\u001b[43m)\u001b[49m\n\u001b[1;32m    278\u001b[0m \u001b[38;5;28;01mif\u001b[39;00m \u001b[38;5;124m'\u001b[39m\u001b[38;5;124m-gw\u001b[39m\u001b[38;5;124m'\u001b[39m \u001b[38;5;129;01min\u001b[39;00m args \u001b[38;5;129;01mor\u001b[39;00m \u001b[38;5;124m'\u001b[39m\u001b[38;5;124m-gh\u001b[39m\u001b[38;5;124m'\u001b[39m \u001b[38;5;129;01min\u001b[39;00m args:\n\u001b[1;32m    279\u001b[0m     _config\u001b[38;5;241m.\u001b[39mset_graph_size(gwidth, gheight)\n",
      "File \u001b[0;32m/Applications/STATA/utilities/pystata/stata.py:325\u001b[0m, in \u001b[0;36mrun\u001b[0;34m(cmd, quietly, echo, inline)\u001b[0m\n\u001b[1;32m    323\u001b[0m \u001b[38;5;124m        _stata_wrk2(\u001b[39m\u001b[38;5;124m\"\u001b[39m\u001b[38;5;124mqui include \u001b[39m\u001b[38;5;124m\"\u001b[39m\u001b[38;5;124m + tmpf, None, False, 1)\u001b[39m\n\u001b[1;32m    324\u001b[0m \u001b[38;5;124m    else:\u001b[39m\n\u001b[0;32m--> 325\u001b[0m \u001b[38;5;124m        _stata_wrk2(\u001b[39m\u001b[38;5;124;43m\"\u001b[39;49m\u001b[38;5;124;43minclude \u001b[39;49m\u001b[38;5;124;43m\"\u001b[39;49m\u001b[38;5;124;43m + tmpf, None, False, 1)\u001b[39;49m\n\u001b[1;32m    327\u001b[0m \u001b[38;5;124mif inline:\u001b[39m\n\u001b[1;32m    328\u001b[0m \u001b[38;5;124m    if config.get_stipython()>=3:\u001b[39m\n",
      "File \u001b[0;32m/Applications/STATA/utilities/pystata/stata.py:116\u001b[0m, in \u001b[0;36m_stata_wrk2\u001b[0;34m(cmd, real_cmd, colon, mode)\u001b[0m\n\u001b[1;32m    114\u001b[0m         err \u001b[38;5;241m=\u001b[39m callback[\u001b[38;5;241m0\u001b[39m]\n\u001b[1;32m    115\u001b[0m         callback\u001b[38;5;241m.\u001b[39mclear()\n\u001b[0;32m--> 116\u001b[0m         \u001b[38;5;28;01mraise\u001b[39;00m \u001b[38;5;167;01mSystemError\u001b[39;00m(err)\n\u001b[1;32m    117\u001b[0m \u001b[38;5;28;01mexcept\u001b[39;00m \u001b[38;5;167;01mKeyboardInterrupt\u001b[39;00m:\n\u001b[1;32m    118\u001b[0m     outputter\u001b[38;5;241m.\u001b[39mdone()\n",
      "\u001b[0;31mSystemError\u001b[0m: \n. \n. # Import data */\nUnknown #command\n. infile SHEET CHAIN CO_OWNED STATE SOUTHJ CENTRALJ NORTHJ PA1 PA2      ///\n>        SHORE NCALLS EMPFT EMPPT NMGRS WAGE_ST INCTIME FIRSTINC BONUS  ///\n>        PCTAFF MEALS OPEN HRSOPEN PSODA PFRY PENTREE NREGS NREGS11     ///\n>        TYPE2 STATUS2 DATE2 NCALLS2 EMPFT2 EMPPT2 NMGRS2 WAGE_ST2      ///\n>        INCTIME2 FIRSTIN2 SPECIAL2 MEALS2 OPEN2R HRSOPEN2 PSODA2 PFRY2 ///\n>        PENTREE2 NREGS2 NREGS112 using \"public.dat\", clear\nfile public.dat not found\nr(601);\nr(601);\n"
     ]
    }
   ],
   "source": [
    "%%stata\n",
    "\n",
    "# Import data */\n",
    "infile SHEET CHAIN CO_OWNED STATE SOUTHJ CENTRALJ NORTHJ PA1 PA2      ///\n",
    "       SHORE NCALLS EMPFT EMPPT NMGRS WAGE_ST INCTIME FIRSTINC BONUS  ///\n",
    "       PCTAFF MEALS OPEN HRSOPEN PSODA PFRY PENTREE NREGS NREGS11     ///\n",
    "       TYPE2 STATUS2 DATE2 NCALLS2 EMPFT2 EMPPT2 NMGRS2 WAGE_ST2      ///\n",
    "       INCTIME2 FIRSTIN2 SPECIAL2 MEALS2 OPEN2R HRSOPEN2 PSODA2 PFRY2 ///\n",
    "       PENTREE2 NREGS2 NREGS112 using \"public.dat\", clear\n",
    "\n",
    "# Label the state variables and values */\n",
    "label var STATE \"State\"\n",
    "label define state_labels 0 \"PA\" 1 \"NJ\"\n",
    "label values STATE state_labels\n",
    "\n",
    "# Calculate FTE employement */\n",
    "gen FTE  = EMPFT  + 0.5 * EMPPT  + NMGRS\n",
    "label var FTE  \"FTE employment before\"\n",
    "gen FTE2 = EMPFT2 + 0.5 * EMPPT2 + NMGRS2\n",
    "label var FTE2 \"FTE employment after\"\n",
    "\n",
    "gen dif = FTE - FTE2"
   ]
  },
  {
   "cell_type": "code",
   "execution_count": null,
   "id": "e1729cc5",
   "metadata": {},
   "outputs": [],
   "source": [
    "%%stata\n",
    "\n",
    "cd \"$working\"\n",
    "\n",
    "save working_data, replace"
   ]
  },
  {
   "cell_type": "code",
   "execution_count": null,
   "id": "af28f9af",
   "metadata": {},
   "outputs": [],
   "source": [
    "%%stata -doutd df1\n",
    "\n",
    "use working_data.dta, clear"
   ]
  },
  {
   "cell_type": "code",
   "execution_count": null,
   "id": "70bf4cf2",
   "metadata": {},
   "outputs": [],
   "source": [
    "display(df1)"
   ]
  },
  {
   "cell_type": "code",
   "execution_count": null,
   "id": "bd869017",
   "metadata": {},
   "outputs": [],
   "source": [
    "%%stata\n",
    "\n",
    "tabstat FTE FTE2, by(STATE) stat(mean semean)"
   ]
  },
  {
   "cell_type": "code",
   "execution_count": null,
   "id": "3d62d03e",
   "metadata": {},
   "outputs": [],
   "source": [
    "%%stata\n",
    "\n",
    "## Editing the data so we can match the paper\n",
    "expand 2 \n",
    "## This creates a dublciate of each observation and it appends it to the bottom of the dataset\n"
   ]
  },
  {
   "cell_type": "code",
   "execution_count": null,
   "id": "be5a1dab",
   "metadata": {},
   "outputs": [],
   "source": [
    "%%stata\n",
    "\n",
    "cd \"$working\"\n",
    "\n",
    "save working_data, replace"
   ]
  },
  {
   "cell_type": "code",
   "execution_count": null,
   "id": "b4238aed",
   "metadata": {},
   "outputs": [],
   "source": [
    "%%stata -doutd df1\n",
    "\n",
    "use working_data.dta, clear"
   ]
  },
  {
   "cell_type": "code",
   "execution_count": null,
   "id": "f131478a",
   "metadata": {},
   "outputs": [],
   "source": [
    "display(df1)"
   ]
  },
  {
   "cell_type": "code",
   "execution_count": null,
   "id": "e31becbd",
   "metadata": {},
   "outputs": [],
   "source": [
    "%%stata\n",
    "\n",
    "gen id = _n \n",
    "\n",
    "## Since the data is compiled with one observation per \"sheet\" or store, \n",
    "## I want to separate them between prior and post treatment"
   ]
  },
  {
   "cell_type": "code",
   "execution_count": null,
   "id": "a90ae564",
   "metadata": {},
   "outputs": [],
   "source": [
    "%%stata\n",
    "\n",
    "gen after = 1 if id > _N/2 \n",
    "## creating the \"after\" treatment indicator\n",
    "replace after = 0 if id <= _N/2\n"
   ]
  },
  {
   "cell_type": "code",
   "execution_count": null,
   "id": "9a9ee8e6",
   "metadata": {},
   "outputs": [],
   "source": [
    "%%stata\n",
    "\n",
    "tab STATE, gen(state) \n",
    "## this will create indicator variables for each state"
   ]
  },
  {
   "cell_type": "code",
   "execution_count": null,
   "id": "450bf726",
   "metadata": {},
   "outputs": [],
   "source": [
    "%%stata\n",
    "\n",
    "rename state2 nj \n",
    "## naming one variable after New Jersey"
   ]
  },
  {
   "cell_type": "code",
   "execution_count": null,
   "id": "9f7556ba",
   "metadata": {},
   "outputs": [],
   "source": [
    "%%stata\n",
    "\n",
    "gen njafter = after*nj \n",
    "## creating an interaction term"
   ]
  },
  {
   "cell_type": "code",
   "execution_count": null,
   "id": "6c04692a",
   "metadata": {},
   "outputs": [],
   "source": [
    "%%stata\n",
    "\n",
    "\n",
    "gen fte = FTE \n",
    "#I don't like capital letters and I want this new \"fte\" variable to disagreggate\n",
    "#the FTE and FTE2 variables into different observations\n",
    "\n"
   ]
  },
  {
   "cell_type": "code",
   "execution_count": null,
   "id": "cd44180c",
   "metadata": {},
   "outputs": [],
   "source": [
    "%%stata\n",
    "\n",
    "replace fte = FTE2 if after ==1 "
   ]
  },
  {
   "cell_type": "code",
   "execution_count": null,
   "id": "715101bc",
   "metadata": {},
   "outputs": [],
   "source": [
    "%%stata\n",
    "\n",
    "## Now we can do Diff-in-Diff analyses:\n",
    "\n",
    "reg fte nj after njafter, robust \n",
    "## The traditional specification"
   ]
  },
  {
   "cell_type": "code",
   "execution_count": null,
   "id": "ed878113",
   "metadata": {},
   "outputs": [],
   "source": [
    "%%stata\n",
    "\n",
    "reg fte njafter nj after, cluster(SHEET) \n",
    "## Clustering Standard Errors by store"
   ]
  },
  {
   "cell_type": "code",
   "execution_count": null,
   "id": "7771b020",
   "metadata": {},
   "outputs": [],
   "source": [
    "%%stata\n",
    "\n",
    "reg dif nj after nj#after, robust \n",
    "## An alternative way to run this regression"
   ]
  },
  {
   "cell_type": "code",
   "execution_count": null,
   "id": "0e969c41",
   "metadata": {},
   "outputs": [],
   "source": [
    "%%stata\n",
    "\n",
    "reg dif nj after njafter, robust \n",
    "##A little cleaner way to do the same thing as above"
   ]
  },
  {
   "cell_type": "code",
   "execution_count": null,
   "id": "c5c5f1ea",
   "metadata": {},
   "outputs": [],
   "source": [
    "%%stata\n",
    "\n",
    "## ssc install diff\n",
    "diff fte, t(nj) p(after)"
   ]
  },
  {
   "cell_type": "code",
   "execution_count": null,
   "id": "f6eb01ad",
   "metadata": {},
   "outputs": [],
   "source": [
    "%%stata\n",
    "\n",
    "save working_data, replace"
   ]
  },
  {
   "cell_type": "code",
   "execution_count": null,
   "id": "5a597d77",
   "metadata": {},
   "outputs": [],
   "source": [
    "%%stata\n",
    "\n",
    "##preserve \n",
    "\n",
    "##use working_data\n",
    "##qui reg fte nj after njafter, robust\n",
    "\n",
    "##collapse (mean) fte, by(nj after)\n",
    "##save working_data_did, replace\n",
    "\n",
    "\n",
    "use working_data_did.dta"
   ]
  },
  {
   "cell_type": "code",
   "execution_count": null,
   "id": "c6f59167",
   "metadata": {},
   "outputs": [],
   "source": [
    "%%stata\n",
    "\n",
    "twoway (connected fte after if nj ==1, color(blue)) (connected fte after if nj ==0, color(red)), xline(0.5) ///\n",
    "legend(label(1 NJ - Treatment) label(2 PA - Control)) \n",
    "save working_data_did, replace"
   ]
  },
  {
   "cell_type": "code",
   "execution_count": null,
   "id": "b1eff928",
   "metadata": {},
   "outputs": [],
   "source": [
    "%%stata\n",
    "clear\n",
    "use working_data.dta\n",
    "\n",
    "quietly reg fte nj after njafter, robust \n",
    "##I'm just running this because I want to store one of the coefficients\n",
    "gen fte_did = fte + _b[nj] \n",
    "##Storing the coefficients + the constant so we can observe the 'counterfactual\n"
   ]
  },
  {
   "cell_type": "code",
   "execution_count": null,
   "id": "3055cd12",
   "metadata": {},
   "outputs": [],
   "source": [
    "%%stata\n",
    "clear\n",
    "## preserve\n",
    "\n",
    "## reg fte nj after njafter, robust\n",
    "\n",
    "## collapse (mean) fte fte_did, by(nj after)\n",
    "\n",
    "## save working_data_did2\n",
    "use working_data_did2\n",
    "twoway (connected fte after if nj ==1, color(blue)) (connected fte after if nj ==0, color(red)) ///\n",
    "(connected fte_did after if nj ==0, color(red) lpattern(dash)) , ///\n",
    "xline(0.5)   legend(label(1 NJ - Treatment) label(2 PA - Control) label(3 Counterfactual) ) \n",
    "\n",
    "##restore\n"
   ]
  },
  {
   "cell_type": "code",
   "execution_count": null,
   "id": "9bbbfdaf",
   "metadata": {},
   "outputs": [],
   "source": [
    "%%stata\n",
    "\n",
    "/// Difference-in-differences Exercise /// \n",
    "cd \"$data\"\n",
    "use panel101.dta, clear //reference: slides by Torres-Reyna @ https://www.princeton.edu/~otorres/DID101.pdf\n"
   ]
  },
  {
   "cell_type": "code",
   "execution_count": null,
   "id": "ab7e589a",
   "metadata": {},
   "outputs": [],
   "source": []
  },
  {
   "cell_type": "code",
   "execution_count": null,
   "id": "e6ed563c",
   "metadata": {},
   "outputs": [],
   "source": []
  },
  {
   "cell_type": "code",
   "execution_count": null,
   "id": "2547661f",
   "metadata": {},
   "outputs": [],
   "source": []
  },
  {
   "cell_type": "code",
   "execution_count": null,
   "id": "dbaa3b0a",
   "metadata": {},
   "outputs": [],
   "source": []
  },
  {
   "cell_type": "code",
   "execution_count": null,
   "id": "920a6eb3",
   "metadata": {},
   "outputs": [],
   "source": []
  },
  {
   "cell_type": "code",
   "execution_count": null,
   "id": "3b7b95ce",
   "metadata": {},
   "outputs": [],
   "source": []
  },
  {
   "cell_type": "code",
   "execution_count": null,
   "id": "10b4b3d7",
   "metadata": {},
   "outputs": [],
   "source": []
  },
  {
   "cell_type": "code",
   "execution_count": null,
   "id": "cdb94203",
   "metadata": {},
   "outputs": [],
   "source": []
  },
  {
   "cell_type": "code",
   "execution_count": null,
   "id": "15f7da04",
   "metadata": {},
   "outputs": [],
   "source": []
  },
  {
   "cell_type": "code",
   "execution_count": null,
   "id": "7d2136b3",
   "metadata": {},
   "outputs": [],
   "source": [
    "%%stata\n",
    "\n",
    "tab year //from 1990 to 1999\n",
    "tab country, nolabel //7 countries"
   ]
  },
  {
   "cell_type": "code",
   "execution_count": null,
   "id": "47fd700d",
   "metadata": {},
   "outputs": [],
   "source": [
    "%%stata\n",
    "\n",
    "gen time = (year>=1994) & !missing(year) \n",
    "##generating before and after period, equivalent to a time fixed effect "
   ]
  },
  {
   "cell_type": "code",
   "execution_count": null,
   "id": "1db67c5a",
   "metadata": {},
   "outputs": [],
   "source": [
    "%%stata\n",
    "\n",
    "\n",
    "gen treated = (country > 4) & !missing(country) \n",
    "## generating treatment units and non-treatment units, equivalent to a group fixed effect \n"
   ]
  },
  {
   "cell_type": "code",
   "execution_count": null,
   "id": "acb5c667",
   "metadata": {},
   "outputs": [],
   "source": [
    "%%stata\n",
    "\n",
    "gen did = time*treated \n",
    "\n",
    "## D_it = 1 if country ? 4 and year >= 1994"
   ]
  },
  {
   "cell_type": "code",
   "execution_count": null,
   "id": "0370ac48",
   "metadata": {},
   "outputs": [],
   "source": [
    "%%stata\n",
    "\n",
    "reg y time treated did\n"
   ]
  },
  {
   "cell_type": "code",
   "execution_count": null,
   "id": "1ecd81b6",
   "metadata": {},
   "outputs": [],
   "source": [
    "%%stata\n",
    "\n",
    "diff y, t(treated) p(time) \n"
   ]
  },
  {
   "cell_type": "code",
   "execution_count": null,
   "id": "7f40131f",
   "metadata": {},
   "outputs": [],
   "source": [
    "%%stata\n",
    "\n",
    "reg y time treated did\n",
    "gen y_did = y + _b[treated]\n"
   ]
  },
  {
   "cell_type": "code",
   "execution_count": null,
   "id": "a9a57605",
   "metadata": {},
   "outputs": [],
   "source": [
    "%%stata\n",
    "clear\n",
    "cd \"$working\"\n",
    "## preserve \n",
    "\n",
    "## collapse (mean) y y_did (max) love, by(treated time)\n",
    "\n",
    "## save ex_working_did, replace\n",
    "use ex_working_did\n",
    "\n",
    "twoway (connected y time if treated ==1, color(blue)) (connected y time if treated ==0, color(red)) ///\n",
    "(connected y_did time if treated ==0, color(red) lpattern(dash))  , ///\n",
    "xline(0.5) legend(label(1 Treated) label(2  Control) label(3 Counterfactual))\n",
    "\n",
    "##restore\n"
   ]
  },
  {
   "cell_type": "code",
   "execution_count": null,
   "id": "cd51b0b4",
   "metadata": {},
   "outputs": [],
   "source": []
  },
  {
   "cell_type": "code",
   "execution_count": null,
   "id": "585fd8d6",
   "metadata": {},
   "outputs": [],
   "source": []
  },
  {
   "cell_type": "code",
   "execution_count": null,
   "id": "1fe1a80a",
   "metadata": {},
   "outputs": [],
   "source": []
  },
  {
   "cell_type": "code",
   "execution_count": null,
   "id": "c109de27",
   "metadata": {},
   "outputs": [],
   "source": []
  },
  {
   "cell_type": "code",
   "execution_count": null,
   "id": "0e708bf7",
   "metadata": {},
   "outputs": [],
   "source": []
  },
  {
   "cell_type": "code",
   "execution_count": null,
   "id": "9840d308",
   "metadata": {},
   "outputs": [],
   "source": []
  },
  {
   "cell_type": "code",
   "execution_count": null,
   "id": "b5ec3636",
   "metadata": {},
   "outputs": [],
   "source": []
  },
  {
   "cell_type": "code",
   "execution_count": null,
   "id": "523045d1",
   "metadata": {},
   "outputs": [],
   "source": []
  }
 ],
 "metadata": {
  "kernelspec": {
   "display_name": "Python 3 (ipykernel)",
   "language": "python",
   "name": "python3"
  },
  "language_info": {
   "codemirror_mode": {
    "name": "ipython",
    "version": 3
   },
   "file_extension": ".py",
   "mimetype": "text/x-python",
   "name": "python",
   "nbconvert_exporter": "python",
   "pygments_lexer": "ipython3",
   "version": "3.10.5"
  },
  "varInspector": {
   "cols": {
    "lenName": 16,
    "lenType": 16,
    "lenVar": 40
   },
   "kernels_config": {
    "python": {
     "delete_cmd_postfix": "",
     "delete_cmd_prefix": "del ",
     "library": "var_list.py",
     "varRefreshCmd": "print(var_dic_list())"
    },
    "r": {
     "delete_cmd_postfix": ") ",
     "delete_cmd_prefix": "rm(",
     "library": "var_list.r",
     "varRefreshCmd": "cat(var_dic_list()) "
    }
   },
   "types_to_exclude": [
    "module",
    "function",
    "builtin_function_or_method",
    "instance",
    "_Feature"
   ],
   "window_display": false
  }
 },
 "nbformat": 4,
 "nbformat_minor": 5
}
