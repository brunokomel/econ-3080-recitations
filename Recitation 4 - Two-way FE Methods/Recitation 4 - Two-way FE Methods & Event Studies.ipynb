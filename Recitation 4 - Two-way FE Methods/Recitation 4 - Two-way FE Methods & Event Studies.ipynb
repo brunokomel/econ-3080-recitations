{
 "cells": [
  {
   "cell_type": "code",
   "execution_count": null,
   "id": "7f14907a",
   "metadata": {
    "scrolled": true
   },
   "outputs": [],
   "source": [
    "import stata_setup\n",
    "import pandas as pd\n",
    "stata_setup.config(\"/Applications/STATA\",\"se\")"
   ]
  },
  {
   "cell_type": "code",
   "execution_count": null,
   "id": "3df9e323",
   "metadata": {},
   "outputs": [],
   "source": [
    "%%stata -doutd df1\n",
    "\n",
    "clear\n",
    "\n",
    "local units = 30\n",
    "local start = 1\n",
    "local end \t= 60\n",
    "\n",
    "local time = `end' - `start' + 1\n",
    "local obsv = `units' * `time'\n",
    "set obs `obsv'\n",
    "\n",
    "egen id\t   = seq(), b(`time')  \n",
    "egen t \t   = seq(), f(`start') t(`end') \t\n",
    "\n",
    "sort  id t\n",
    "xtset id t\n",
    "\n",
    "\n",
    "set seed 20211222\n",
    "\n",
    "gen Y \t   \t\t= 0\t\t// outcome variable\t\n",
    "gen D \t   \t\t= 0\t\t// intervention variable\n",
    "gen cohort      = .  \t// treatment cohort\n",
    "gen effect      = .\t\t// treatment effect size\n",
    "gen first_treat = .\t\t// when the treatment happens for each cohort\n",
    "gen rel_time\t= .     // time - first_treat\n",
    "\n",
    "levelsof id, local(lvls) //randomly assigning observations into cohorts\n",
    "foreach x of local lvls {\n",
    "\tlocal chrt = runiformint(0,5)\t\n",
    "\treplace cohort = `chrt' if id==`x'\n",
    "}\n",
    "\n",
    "levelsof cohort , local(lvls)  \n",
    "foreach x of local lvls {\n",
    "\t\n",
    "\tlocal eff = runiformint(2,10)\n",
    "\t\treplace effect = `eff' if cohort==`x'\n",
    "\t\t\t\n",
    "\tlocal timing = runiformint(`start',`end' + 20)\t// \n",
    "\treplace first_treat = `timing' if cohort==`x'\n",
    "\treplace first_treat = . if first_treat > `end'\n",
    "\t\treplace D = 1 if cohort==`x' & t>= `timing' \n",
    "}\n",
    "\n",
    "replace rel_time = t - first_treat\n",
    "replace Y = id + t + cond(D==1, effect * rel_time, 0) + rnormal()\n",
    "\n",
    "xtline Y, overlay legend(off) // Here we can see the effects of staggered treatments\n",
    "\n",
    "gen gvar = first_treat\n",
    "recode gvar (. = 0)\n"
   ]
  },
  {
   "cell_type": "code",
   "execution_count": null,
   "id": "7db2f9df",
   "metadata": {},
   "outputs": [],
   "source": [
    "%%stata\n",
    "\n",
    "// Let's simplify this a bit:\n",
    "keep if t > 18 & t < 30\n",
    "\n",
    "\n",
    "xtline Y, overlay legend(off)"
   ]
  },
  {
   "cell_type": "code",
   "execution_count": null,
   "id": "39cc4669",
   "metadata": {
    "scrolled": true
   },
   "outputs": [],
   "source": [
    "display(df1)"
   ]
  },
  {
   "cell_type": "markdown",
   "id": "e4533895",
   "metadata": {},
   "source": [
    "# • TWFE"
   ]
  },
  {
   "cell_type": "markdown",
   "id": "6c4128a0",
   "metadata": {},
   "source": [
    "## How do we estimate the average treatment effect (ATE)?"
   ]
  },
  {
   "cell_type": "code",
   "execution_count": null,
   "id": "bd61f6ef",
   "metadata": {
    "scrolled": true
   },
   "outputs": [],
   "source": [
    "%%stata\n",
    "\n",
    "// ssc install reghdfe\n",
    "\n",
    "reghdfe Y D, abs(cohort t) \n"
   ]
  },
  {
   "cell_type": "markdown",
   "id": "df65acc8",
   "metadata": {},
   "source": [
    "### This is running a two-way fixed effect regression with cohort and time fixed effects (abs stands for \"absorve\" that's because the fixed effects model absorves the movement within each category)"
   ]
  },
  {
   "cell_type": "markdown",
   "id": "0a198667",
   "metadata": {},
   "source": [
    "## Event Study"
   ]
  },
  {
   "cell_type": "code",
   "execution_count": null,
   "id": "fb7f8da6",
   "metadata": {
    "scrolled": true
   },
   "outputs": [],
   "source": [
    "%%stata\n",
    "\n",
    "// First, let's create the indicators for the leads and the lags\n",
    "// And let's say we're only interested in the 5 periods befre and after treatment\n",
    "\n",
    "gen rel_time2 = rel_time if abs(rel_time) < 6\n",
    "\n",
    "tab rel_time2, gen(period_ind) // This will create an indicator variable for each \"level\" of rel_time2"
   ]
  },
  {
   "cell_type": "code",
   "execution_count": null,
   "id": "f3b3a265",
   "metadata": {
    "scrolled": true
   },
   "outputs": [],
   "source": [
    "%%stata \n",
    "\n",
    "// Let's rename these variables to something more intuitive (leads and lags)\n",
    "rename period_ind1 lead5 \n",
    "rename period_ind2 lead4\n",
    "rename period_ind3 lead3\n",
    "rename period_ind4 lead2\n",
    "rename period_ind5 lead1\n",
    "rename period_ind6 lag0\n",
    "\n",
    "forval i = 7/11 {\n",
    "    local lag_suffix = `i' - 6  // Calculates the lag suffix\n",
    "    rename period_ind`i' lag`lag_suffix'\n",
    "}"
   ]
  },
  {
   "cell_type": "code",
   "execution_count": null,
   "id": "1918fd42",
   "metadata": {
    "scrolled": false
   },
   "outputs": [],
   "source": [
    "%%stata -doutd df2 \n",
    "\n",
    "rename lag0  ref \n",
    "replace ref = 0 // this is making the year prior to treatment our reference year (omitted)"
   ]
  },
  {
   "cell_type": "code",
   "execution_count": null,
   "id": "e2ee4107",
   "metadata": {},
   "outputs": [],
   "source": [
    "%%stata\n",
    "\n",
    "// Let's remove missing values from the control group\n",
    "\n",
    "foreach var of varlist lead* lag* ref {\n",
    "    replace `var' = 0 if `var' == .\n",
    "}"
   ]
  },
  {
   "cell_type": "code",
   "execution_count": null,
   "id": "4bb5072a",
   "metadata": {},
   "outputs": [],
   "source": [
    "%%stata\n",
    "\n",
    "tab cohort\n",
    "\n",
    "xtline Y if first_treat < 25 | first_treat == . & t > 18 & t < 29, overlay legend(off) // Here we can see the effects of staggered treatments\n"
   ]
  },
  {
   "cell_type": "code",
   "execution_count": null,
   "id": "fb8f7b55",
   "metadata": {
    "scrolled": true
   },
   "outputs": [],
   "source": [
    "%%stata\n",
    "\n",
    " reghdfe Y lead5 lead4 lead3 lead2 lead1 ref lag1 lag2 lag3 lag4 lag5 , absorb(cohort t)\n"
   ]
  },
  {
   "cell_type": "code",
   "execution_count": null,
   "id": "c1845d90",
   "metadata": {},
   "outputs": [],
   "source": [
    "%%stata\n",
    "\n",
    "\n",
    "coefplot, keep (lead5 lead4 lead3 lead2 lead1 ref lag1 lag2 lag3 lag4 lag5) ///\n",
    "omitted vertical xlabel(, angle(vertical)) yline(0) xline(5) recast(connected) xlabel(, angle(0)) ///\n",
    "ciopts(recast(rcap) lwidth(*1) lcolor(red))   mcolor(black) lcolor(blue)  ///\n",
    "\tmlabposition(12) mlabgap(*2) title(Event-Study Plot)  lstyle(grid)  ///\n",
    "\trename(lead5 = \"-5\" lead4 = \"-4\" lead3 = \"-3\" lead2 = \"-2\" lead1 = \"-2\" lead1 = \"-1\" ref = \"0\" lag1 = \"1\" lag2 = \"2\" lag3 = \"3\" lag4 = \"4\" lag5 = \"5\" )  ///\n",
    "\taddplot(scatteri -21 5 -21 6 61 6 61 5, recast(area) lwidth(none) color(gray%10) ) "
   ]
  },
  {
   "cell_type": "markdown",
   "id": "dd3f795c",
   "metadata": {},
   "source": [
    "## But what do each of those commands do?\n",
    "\n",
    "### Ask GPT "
   ]
  },
  {
   "cell_type": "markdown",
   "id": "c2bc5439",
   "metadata": {},
   "source": [
    "# Exercise"
   ]
  },
  {
   "cell_type": "markdown",
   "id": "501d6322",
   "metadata": {},
   "source": [
    "Based on Cheng and Hoesktra (2013) [Thanks, @Causal Inference The Mixtape]\n",
    "\n",
    "Studies the effect of castle-doctrine statutes passed in 21 states between 2000 and 2010. These statutes extended one's right to use lethal self-defense such that it was no longer limited to one's home, but also to other public places.\n",
    "\n",
    "So this paper studies the effect of these doctrines on the (log) number of homicides."
   ]
  },
  {
   "cell_type": "code",
   "execution_count": null,
   "id": "3f987697",
   "metadata": {},
   "outputs": [],
   "source": [
    "%%stata -doutd df3\n",
    "\n",
    "use https://github.com/scunning1975/mixtape/raw/master/castle.dta, clear\n",
    "\n",
    "* define global macros\n",
    "global crime1 jhcitizen_c jhpolice_c murder homicide  robbery assault burglary larceny motor robbery_gun_r \n",
    "global demo blackm_15_24 whitem_15_24 blackm_25_44 whitem_25_44 //demographics\n",
    "global lintrend trend_1-trend_51 //state linear trend\n",
    "global region r20001-r20104  //region-quarter fixed effects\n",
    "global exocrime l_larceny l_motor // exogenous crime rates\n",
    "global spending l_exp_subsidy l_exp_pubwelfare\n",
    "global xvar l_police unemployrt poverty l_income l_prisoner l_lagprisoner $demo $spending\n"
   ]
  },
  {
   "cell_type": "code",
   "execution_count": null,
   "id": "0cd56175",
   "metadata": {
    "scrolled": true
   },
   "outputs": [],
   "source": [
    "display(df3)"
   ]
  },
  {
   "cell_type": "markdown",
   "id": "e070bf77",
   "metadata": {},
   "source": [
    "### 0. Figure out what the treatment variable is"
   ]
  },
  {
   "cell_type": "markdown",
   "id": "02e73b7e",
   "metadata": {},
   "source": [
    "post"
   ]
  },
  {
   "cell_type": "markdown",
   "id": "c4203561",
   "metadata": {},
   "source": [
    "### 1. Estimate the ATE of the treatment variable on log homicides.\n",
    "### Make sure to use year and state fixed effects. (Hint: you should also use population weights, popwt)\n",
    "### Also, you should control for region, linear trends, and other covariates that were stored as globals"
   ]
  },
  {
   "cell_type": "code",
   "execution_count": null,
   "id": "1fb80071",
   "metadata": {
    "scrolled": true
   },
   "outputs": [],
   "source": [
    "%%stata \n",
    "\n",
    "xtset\n",
    "\n",
    "label variable post \"Year of treatment\"\n",
    "xi: xtreg l_homicide post i.year $region $xvar $lintrend  [aweight=popwt], fe vce(cluster sid)"
   ]
  },
  {
   "cell_type": "code",
   "execution_count": null,
   "id": "86028e08",
   "metadata": {},
   "outputs": [],
   "source": [
    "%%stata\n",
    "\n",
    "// My preferred command\n",
    "reghdfe l_homicide  post $region $xvar $lintrend  [aw = popwt], vce(cluster sid) absorb(year sid)"
   ]
  },
  {
   "cell_type": "markdown",
   "id": "b63a3768",
   "metadata": {},
   "source": [
    "### 2. Now create an event-study plot for this setting."
   ]
  },
  {
   "cell_type": "code",
   "execution_count": null,
   "id": "3d512971",
   "metadata": {
    "scrolled": true
   },
   "outputs": [],
   "source": [
    "%%stata\n",
    "\n",
    "gen ref = 0\n",
    "\n",
    "* Event study regression with the year of treatment (lag0) as the omitted category.\n",
    "reghdfe l_homicide lead9 lead8 lead7 lead6 lead5 lead4 lead3 lead2 lead1 ref lag1-lag5  $region [aweight=popwt], absorb(year sid) vce(cluster sid)"
   ]
  },
  {
   "cell_type": "code",
   "execution_count": null,
   "id": "782716de",
   "metadata": {
    "scrolled": false
   },
   "outputs": [],
   "source": [
    "%%stata\n",
    "set scheme tab1\n",
    "\n",
    "coefplot, keep(lead9 lead8 lead7 lead6 lead5 lead4 lead3 lead2 lead1 ref lag1 lag2 lag3 lag4 lag5 ) ///\n",
    "\txlabel(, angle(vertical))  yline(-.5(0.25)0.5) xline(10) vertical omitted recast(connected) xlabel(, angle(0)) ///\n",
    "\tciopts(recast(rcap) lwidth(*1) lcolor(gs2) ) format(%9.0f)   mcolor(gs2) lcolor(gs2) ///\n",
    "\tmlabposition(12) mlabgap(*2) title(Event-Study Plot)  lstyle(grid) ///\n",
    "\trename(lead9 = \"-9\" lead8 = \"-8\" lead7 = \"-7\" lead6 = \"-6\"   lead5 = \"-5\" lead4 = \"-4\" lead3 = \"-3\" lead2 = \"-2\"  lead1 = \"-1\" ref = \"0\" lag1 = \"1\" lag2 = \"2\" lag3 = \"3\" lag4 = \"4\" lag5 = \"5\" )  ///\n",
    "\taddplot(scatteri -.5 10 -.5 11 .5 11 .5 10, recast(area) lwidth(none) color(grey%10) ) \n"
   ]
  }
 ],
 "metadata": {
  "kernelspec": {
   "display_name": "Python 3 (ipykernel)",
   "language": "python",
   "name": "python3"
  },
  "language_info": {
   "codemirror_mode": {
    "name": "ipython",
    "version": 3
   },
   "file_extension": ".py",
   "mimetype": "text/x-python",
   "name": "python",
   "nbconvert_exporter": "python",
   "pygments_lexer": "ipython3",
   "version": "3.10.5"
  },
  "varInspector": {
   "cols": {
    "lenName": 16,
    "lenType": 16,
    "lenVar": 40
   },
   "kernels_config": {
    "python": {
     "delete_cmd_postfix": "",
     "delete_cmd_prefix": "del ",
     "library": "var_list.py",
     "varRefreshCmd": "print(var_dic_list())"
    },
    "r": {
     "delete_cmd_postfix": ") ",
     "delete_cmd_prefix": "rm(",
     "library": "var_list.r",
     "varRefreshCmd": "cat(var_dic_list()) "
    }
   },
   "types_to_exclude": [
    "module",
    "function",
    "builtin_function_or_method",
    "instance",
    "_Feature"
   ],
   "window_display": false
  }
 },
 "nbformat": 4,
 "nbformat_minor": 5
}
