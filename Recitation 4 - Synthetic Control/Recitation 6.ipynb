{
 "cells": [
  {
   "cell_type": "code",
   "execution_count": 4,
   "id": "f6a5b50b",
   "metadata": {
    "scrolled": true
   },
   "outputs": [],
   "source": [
    "import stata_setup\n",
    "import pandas as pd\n",
    "stata_setup.config(\"/Applications/STATA\",\"se\")"
   ]
  },
  {
   "cell_type": "code",
   "execution_count": 5,
   "id": "71a88c61",
   "metadata": {
    "scrolled": false
   },
   "outputs": [
    {
     "name": "stdout",
     "output_type": "stream",
     "text": [
      "\n",
      ". \n",
      ". use https://github.com/scunning1975/mixtape/raw/master/texas.dta, clear\n"
     ]
    },
    {
     "ename": "SystemError",
     "evalue": "\n. // ssc install synth \n. // ssc install mat2txt\n. \n. #delimit; \ndelimiter now ;\n. synth   bmprison  \n>             bmprison(1990) bmprison(1992) bmprison(1991) bmprison(1988)\n>             alcohol(1990) aidscapita(1990) aidscapita(1991) \n>             income ur poverty black(1990) black(1991) black(1992) \n>             perc1519(1990)\n>             ,       \n>         trunit(48) trperiod(1993) unitnames(state) \n>         mspeperiod(1985(1)1993) resultsperiod(1985(1)2000)\n>         keep(../data/synth/synth_bmprate.dta) replace fig;\nCould not load plugin: /Users/brunokomel/Library/Application Support/Stata/ado/\n> plus/s/synthopt.plugin\n(error occurred while loading synth.ado)\nr(9999);\nr(9999);\n",
     "output_type": "error",
     "traceback": [
      "\u001b[0;31m---------------------------------------------------------------------------\u001b[0m",
      "\u001b[0;31mSystemError\u001b[0m                               Traceback (most recent call last)",
      "Input \u001b[0;32mIn [5]\u001b[0m, in \u001b[0;36m<cell line: 1>\u001b[0;34m()\u001b[0m\n\u001b[0;32m----> 1\u001b[0m \u001b[43mget_ipython\u001b[49m\u001b[43m(\u001b[49m\u001b[43m)\u001b[49m\u001b[38;5;241;43m.\u001b[39;49m\u001b[43mrun_cell_magic\u001b[49m\u001b[43m(\u001b[49m\u001b[38;5;124;43m'\u001b[39;49m\u001b[38;5;124;43mstata\u001b[39;49m\u001b[38;5;124;43m'\u001b[39;49m\u001b[43m,\u001b[49m\u001b[43m \u001b[49m\u001b[38;5;124;43m'\u001b[39;49m\u001b[38;5;124;43m'\u001b[39;49m\u001b[43m,\u001b[49m\u001b[43m \u001b[49m\u001b[38;5;124;43m'\u001b[39;49m\u001b[38;5;130;43;01m\\n\u001b[39;49;00m\u001b[38;5;124;43muse https://github.com/scunning1975/mixtape/raw/master/texas.dta, clear\u001b[39;49m\u001b[38;5;130;43;01m\\n\u001b[39;49;00m\u001b[38;5;124;43m// ssc install synth \u001b[39;49m\u001b[38;5;130;43;01m\\n\u001b[39;49;00m\u001b[38;5;124;43m// ssc install mat2txt\u001b[39;49m\u001b[38;5;130;43;01m\\n\u001b[39;49;00m\u001b[38;5;130;43;01m\\n\u001b[39;49;00m\u001b[38;5;124;43m#delimit; \u001b[39;49m\u001b[38;5;130;43;01m\\n\u001b[39;49;00m\u001b[38;5;124;43msynth   bmprison  \u001b[39;49m\u001b[38;5;130;43;01m\\n\u001b[39;49;00m\u001b[38;5;124;43m            bmprison(1990) bmprison(1992) bmprison(1991) bmprison(1988)\u001b[39;49m\u001b[38;5;130;43;01m\\n\u001b[39;49;00m\u001b[38;5;124;43m            alcohol(1990) aidscapita(1990) aidscapita(1991) \u001b[39;49m\u001b[38;5;130;43;01m\\n\u001b[39;49;00m\u001b[38;5;124;43m            income ur poverty black(1990) black(1991) black(1992) \u001b[39;49m\u001b[38;5;130;43;01m\\n\u001b[39;49;00m\u001b[38;5;124;43m            perc1519(1990)\u001b[39;49m\u001b[38;5;130;43;01m\\n\u001b[39;49;00m\u001b[38;5;124;43m            ,       \u001b[39;49m\u001b[38;5;130;43;01m\\n\u001b[39;49;00m\u001b[38;5;124;43m        trunit(48) trperiod(1993) unitnames(state) \u001b[39;49m\u001b[38;5;130;43;01m\\n\u001b[39;49;00m\u001b[38;5;124;43m        mspeperiod(1985(1)1993) resultsperiod(1985(1)2000)\u001b[39;49m\u001b[38;5;130;43;01m\\n\u001b[39;49;00m\u001b[38;5;124;43m        keep(../data/synth/synth_bmprate.dta) replace fig;\u001b[39;49m\u001b[38;5;130;43;01m\\n\u001b[39;49;00m\u001b[38;5;124;43m        mat list e(V_matrix);\u001b[39;49m\u001b[38;5;130;43;01m\\n\u001b[39;49;00m\u001b[38;5;124;43m        #delimit cr\u001b[39;49m\u001b[38;5;130;43;01m\\n\u001b[39;49;00m\u001b[38;5;124;43m        graph save Graph ../Figures/synth_tx.gph, replace}\u001b[39;49m\u001b[38;5;130;43;01m\\n\u001b[39;49;00m\u001b[38;5;124;43m'\u001b[39;49m\u001b[43m)\u001b[49m\n",
      "File \u001b[0;32m/Library/Frameworks/Python.framework/Versions/3.10/lib/python3.10/site-packages/IPython/core/interactiveshell.py:2358\u001b[0m, in \u001b[0;36mInteractiveShell.run_cell_magic\u001b[0;34m(self, magic_name, line, cell)\u001b[0m\n\u001b[1;32m   2356\u001b[0m \u001b[38;5;28;01mwith\u001b[39;00m \u001b[38;5;28mself\u001b[39m\u001b[38;5;241m.\u001b[39mbuiltin_trap:\n\u001b[1;32m   2357\u001b[0m     args \u001b[38;5;241m=\u001b[39m (magic_arg_s, cell)\n\u001b[0;32m-> 2358\u001b[0m     result \u001b[38;5;241m=\u001b[39m \u001b[43mfn\u001b[49m\u001b[43m(\u001b[49m\u001b[38;5;241;43m*\u001b[39;49m\u001b[43margs\u001b[49m\u001b[43m,\u001b[49m\u001b[43m \u001b[49m\u001b[38;5;241;43m*\u001b[39;49m\u001b[38;5;241;43m*\u001b[39;49m\u001b[43mkwargs\u001b[49m\u001b[43m)\u001b[49m\n\u001b[1;32m   2359\u001b[0m \u001b[38;5;28;01mreturn\u001b[39;00m result\n",
      "File \u001b[0;32m/Applications/STATA/utilities/pystata/ipython/stpymagic.py:276\u001b[0m, in \u001b[0;36mPyStataMagic.stata\u001b[0;34m(self, line, cell, local_ns)\u001b[0m\n\u001b[1;32m    274\u001b[0m     _stata\u001b[38;5;241m.\u001b[39mrun(cell, quietly\u001b[38;5;241m=\u001b[39m\u001b[38;5;28;01mTrue\u001b[39;00m, inline\u001b[38;5;241m=\u001b[39m_config\u001b[38;5;241m.\u001b[39mstconfig[\u001b[38;5;124m'\u001b[39m\u001b[38;5;124mgrshow\u001b[39m\u001b[38;5;124m'\u001b[39m])\n\u001b[1;32m    275\u001b[0m \u001b[38;5;28;01melse\u001b[39;00m:\n\u001b[0;32m--> 276\u001b[0m     \u001b[43m_stata\u001b[49m\u001b[38;5;241;43m.\u001b[39;49m\u001b[43mrun\u001b[49m\u001b[43m(\u001b[49m\u001b[43mcell\u001b[49m\u001b[43m,\u001b[49m\u001b[43m \u001b[49m\u001b[43mquietly\u001b[49m\u001b[38;5;241;43m=\u001b[39;49m\u001b[38;5;28;43;01mFalse\u001b[39;49;00m\u001b[43m,\u001b[49m\u001b[43m \u001b[49m\u001b[43minline\u001b[49m\u001b[38;5;241;43m=\u001b[39;49m\u001b[43m_config\u001b[49m\u001b[38;5;241;43m.\u001b[39;49m\u001b[43mstconfig\u001b[49m\u001b[43m[\u001b[49m\u001b[38;5;124;43m'\u001b[39;49m\u001b[38;5;124;43mgrshow\u001b[39;49m\u001b[38;5;124;43m'\u001b[39;49m\u001b[43m]\u001b[49m\u001b[43m)\u001b[49m\n\u001b[1;32m    278\u001b[0m \u001b[38;5;28;01mif\u001b[39;00m \u001b[38;5;124m'\u001b[39m\u001b[38;5;124m-gw\u001b[39m\u001b[38;5;124m'\u001b[39m \u001b[38;5;129;01min\u001b[39;00m args \u001b[38;5;129;01mor\u001b[39;00m \u001b[38;5;124m'\u001b[39m\u001b[38;5;124m-gh\u001b[39m\u001b[38;5;124m'\u001b[39m \u001b[38;5;129;01min\u001b[39;00m args:\n\u001b[1;32m    279\u001b[0m     _config\u001b[38;5;241m.\u001b[39mset_graph_size(gwidth, gheight)\n",
      "File \u001b[0;32m/Applications/STATA/utilities/pystata/stata.py:325\u001b[0m, in \u001b[0;36mrun\u001b[0;34m(cmd, quietly, echo, inline)\u001b[0m\n\u001b[1;32m    323\u001b[0m \u001b[38;5;124m        _stata_wrk2(\u001b[39m\u001b[38;5;124m\"\u001b[39m\u001b[38;5;124mqui include \u001b[39m\u001b[38;5;124m\"\u001b[39m\u001b[38;5;124m + tmpf, None, False, 1)\u001b[39m\n\u001b[1;32m    324\u001b[0m \u001b[38;5;124m    else:\u001b[39m\n\u001b[0;32m--> 325\u001b[0m \u001b[38;5;124m        _stata_wrk2(\u001b[39m\u001b[38;5;124;43m\"\u001b[39;49m\u001b[38;5;124;43minclude \u001b[39;49m\u001b[38;5;124;43m\"\u001b[39;49m\u001b[38;5;124;43m + tmpf, None, False, 1)\u001b[39;49m\n\u001b[1;32m    327\u001b[0m \u001b[38;5;124mif inline:\u001b[39m\n\u001b[1;32m    328\u001b[0m \u001b[38;5;124m    if config.get_stipython()>=3:\u001b[39m\n",
      "File \u001b[0;32m/Applications/STATA/utilities/pystata/stata.py:116\u001b[0m, in \u001b[0;36m_stata_wrk2\u001b[0;34m(cmd, real_cmd, colon, mode)\u001b[0m\n\u001b[1;32m    114\u001b[0m         err \u001b[38;5;241m=\u001b[39m callback[\u001b[38;5;241m0\u001b[39m]\n\u001b[1;32m    115\u001b[0m         callback\u001b[38;5;241m.\u001b[39mclear()\n\u001b[0;32m--> 116\u001b[0m         \u001b[38;5;28;01mraise\u001b[39;00m \u001b[38;5;167;01mSystemError\u001b[39;00m(err)\n\u001b[1;32m    117\u001b[0m \u001b[38;5;28;01mexcept\u001b[39;00m \u001b[38;5;167;01mKeyboardInterrupt\u001b[39;00m:\n\u001b[1;32m    118\u001b[0m     outputter\u001b[38;5;241m.\u001b[39mdone()\n",
      "\u001b[0;31mSystemError\u001b[0m: \n. // ssc install synth \n. // ssc install mat2txt\n. \n. #delimit; \ndelimiter now ;\n. synth   bmprison  \n>             bmprison(1990) bmprison(1992) bmprison(1991) bmprison(1988)\n>             alcohol(1990) aidscapita(1990) aidscapita(1991) \n>             income ur poverty black(1990) black(1991) black(1992) \n>             perc1519(1990)\n>             ,       \n>         trunit(48) trperiod(1993) unitnames(state) \n>         mspeperiod(1985(1)1993) resultsperiod(1985(1)2000)\n>         keep(../data/synth/synth_bmprate.dta) replace fig;\nCould not load plugin: /Users/brunokomel/Library/Application Support/Stata/ado/\n> plus/s/synthopt.plugin\n(error occurred while loading synth.ado)\nr(9999);\nr(9999);\n"
     ]
    }
   ],
   "source": [
    "%%stata\n",
    "\n",
    "use https://github.com/scunning1975/mixtape/raw/master/texas.dta, clear\n",
    "// ssc install synth \n",
    "// ssc install mat2txt\n",
    "\n",
    "#delimit; \n",
    "synth   bmprison  \n",
    "            bmprison(1990) bmprison(1992) bmprison(1991) bmprison(1988)\n",
    "            alcohol(1990) aidscapita(1990) aidscapita(1991) \n",
    "            income ur poverty black(1990) black(1991) black(1992) \n",
    "            perc1519(1990)\n",
    "            ,       \n",
    "        trunit(48) trperiod(1993) unitnames(state) \n",
    "        mspeperiod(1985(1)1993) resultsperiod(1985(1)2000)\n",
    "        keep(../data/synth/synth_bmprate.dta) replace fig;\n",
    "        mat list e(V_matrix);\n",
    "        #delimit cr\n",
    "        graph save Graph ../Figures/synth_tx.gph, replace}"
   ]
  },
  {
   "cell_type": "code",
   "execution_count": 6,
   "id": "9a4019d3",
   "metadata": {
    "scrolled": true
   },
   "outputs": [
    {
     "name": "stdout",
     "output_type": "stream",
     "text": [
      "\n",
      ". \n",
      ". use https://github.com/scunning1975/mixtape/raw/master/texas.dta, clear\n",
      "\n",
      ". // ssc install synth \n",
      ". // ssc install mat2txt\n",
      ". \n"
     ]
    }
   ],
   "source": [
    "%%stata\n",
    "\n",
    "use https://github.com/scunning1975/mixtape/raw/master/texas.dta, clear\n",
    "// ssc install synth \n",
    "// ssc install mat2txt\n"
   ]
  },
  {
   "cell_type": "code",
   "execution_count": 9,
   "id": "f106811b",
   "metadata": {},
   "outputs": [
    {
     "ename": "SystemError",
     "evalue": "\n. \n.  \n. synth   bmprison  \nCould not load plugin: /Users/brunokomel/Library/Application Support/Stata/ado/\n> plus/s/synthopt.plugin\n(error occurred while loading synth.ado)\nr(9999);\nr(9999);\n",
     "output_type": "error",
     "traceback": [
      "\u001b[0;31m---------------------------------------------------------------------------\u001b[0m",
      "\u001b[0;31mSystemError\u001b[0m                               Traceback (most recent call last)",
      "Input \u001b[0;32mIn [9]\u001b[0m, in \u001b[0;36m<cell line: 1>\u001b[0;34m()\u001b[0m\n\u001b[0;32m----> 1\u001b[0m \u001b[43mget_ipython\u001b[49m\u001b[43m(\u001b[49m\u001b[43m)\u001b[49m\u001b[38;5;241;43m.\u001b[39;49m\u001b[43mrun_cell_magic\u001b[49m\u001b[43m(\u001b[49m\u001b[38;5;124;43m'\u001b[39;49m\u001b[38;5;124;43mstata\u001b[39;49m\u001b[38;5;124;43m'\u001b[39;49m\u001b[43m,\u001b[49m\u001b[43m \u001b[49m\u001b[38;5;124;43m'\u001b[39;49m\u001b[38;5;124;43m'\u001b[39;49m\u001b[43m,\u001b[49m\u001b[43m \u001b[49m\u001b[38;5;124;43m'\u001b[39;49m\u001b[38;5;130;43;01m\\n\u001b[39;49;00m\u001b[38;5;124;43m \u001b[39;49m\u001b[38;5;130;43;01m\\n\u001b[39;49;00m\u001b[38;5;124;43msynth   bmprison  \u001b[39;49m\u001b[38;5;130;43;01m\\n\u001b[39;49;00m\u001b[38;5;124;43m            bmprison(1990) bmprison(1992) bmprison(1991) bmprison(1988)\u001b[39;49m\u001b[38;5;130;43;01m\\n\u001b[39;49;00m\u001b[38;5;124;43m            alcohol(1990) aidscapita(1990) aidscapita(1991) \u001b[39;49m\u001b[38;5;130;43;01m\\n\u001b[39;49;00m\u001b[38;5;124;43m            income ur poverty black(1990) black(1991) black(1992) \u001b[39;49m\u001b[38;5;130;43;01m\\n\u001b[39;49;00m\u001b[38;5;124;43m            perc1519(1990)\u001b[39;49m\u001b[38;5;130;43;01m\\n\u001b[39;49;00m\u001b[38;5;124;43m            ,       \u001b[39;49m\u001b[38;5;130;43;01m\\n\u001b[39;49;00m\u001b[38;5;124;43m        trunit(48) trperiod(1993) unitnames(state) \u001b[39;49m\u001b[38;5;130;43;01m\\n\u001b[39;49;00m\u001b[38;5;124;43m        mspeperiod(1985(1)1993) resultsperiod(1985(1)2000)\u001b[39;49m\u001b[38;5;130;43;01m\\n\u001b[39;49;00m\u001b[38;5;124;43m        keep(../data/synth/synth_bmprate.dta) replace fig\u001b[39;49m\u001b[38;5;130;43;01m\\n\u001b[39;49;00m\u001b[38;5;124;43m        \u001b[39;49m\u001b[38;5;130;43;01m\\n\u001b[39;49;00m\u001b[38;5;124;43m        mat list e(V_matrix)\u001b[39;49m\u001b[38;5;130;43;01m\\n\u001b[39;49;00m\u001b[38;5;124;43m        \u001b[39;49m\u001b[38;5;130;43;01m\\n\u001b[39;49;00m\u001b[38;5;130;43;01m\\n\u001b[39;49;00m\u001b[38;5;124;43m'\u001b[39;49m\u001b[43m)\u001b[49m\n",
      "File \u001b[0;32m/Library/Frameworks/Python.framework/Versions/3.10/lib/python3.10/site-packages/IPython/core/interactiveshell.py:2358\u001b[0m, in \u001b[0;36mInteractiveShell.run_cell_magic\u001b[0;34m(self, magic_name, line, cell)\u001b[0m\n\u001b[1;32m   2356\u001b[0m \u001b[38;5;28;01mwith\u001b[39;00m \u001b[38;5;28mself\u001b[39m\u001b[38;5;241m.\u001b[39mbuiltin_trap:\n\u001b[1;32m   2357\u001b[0m     args \u001b[38;5;241m=\u001b[39m (magic_arg_s, cell)\n\u001b[0;32m-> 2358\u001b[0m     result \u001b[38;5;241m=\u001b[39m \u001b[43mfn\u001b[49m\u001b[43m(\u001b[49m\u001b[38;5;241;43m*\u001b[39;49m\u001b[43margs\u001b[49m\u001b[43m,\u001b[49m\u001b[43m \u001b[49m\u001b[38;5;241;43m*\u001b[39;49m\u001b[38;5;241;43m*\u001b[39;49m\u001b[43mkwargs\u001b[49m\u001b[43m)\u001b[49m\n\u001b[1;32m   2359\u001b[0m \u001b[38;5;28;01mreturn\u001b[39;00m result\n",
      "File \u001b[0;32m/Applications/STATA/utilities/pystata/ipython/stpymagic.py:276\u001b[0m, in \u001b[0;36mPyStataMagic.stata\u001b[0;34m(self, line, cell, local_ns)\u001b[0m\n\u001b[1;32m    274\u001b[0m     _stata\u001b[38;5;241m.\u001b[39mrun(cell, quietly\u001b[38;5;241m=\u001b[39m\u001b[38;5;28;01mTrue\u001b[39;00m, inline\u001b[38;5;241m=\u001b[39m_config\u001b[38;5;241m.\u001b[39mstconfig[\u001b[38;5;124m'\u001b[39m\u001b[38;5;124mgrshow\u001b[39m\u001b[38;5;124m'\u001b[39m])\n\u001b[1;32m    275\u001b[0m \u001b[38;5;28;01melse\u001b[39;00m:\n\u001b[0;32m--> 276\u001b[0m     \u001b[43m_stata\u001b[49m\u001b[38;5;241;43m.\u001b[39;49m\u001b[43mrun\u001b[49m\u001b[43m(\u001b[49m\u001b[43mcell\u001b[49m\u001b[43m,\u001b[49m\u001b[43m \u001b[49m\u001b[43mquietly\u001b[49m\u001b[38;5;241;43m=\u001b[39;49m\u001b[38;5;28;43;01mFalse\u001b[39;49;00m\u001b[43m,\u001b[49m\u001b[43m \u001b[49m\u001b[43minline\u001b[49m\u001b[38;5;241;43m=\u001b[39;49m\u001b[43m_config\u001b[49m\u001b[38;5;241;43m.\u001b[39;49m\u001b[43mstconfig\u001b[49m\u001b[43m[\u001b[49m\u001b[38;5;124;43m'\u001b[39;49m\u001b[38;5;124;43mgrshow\u001b[39;49m\u001b[38;5;124;43m'\u001b[39;49m\u001b[43m]\u001b[49m\u001b[43m)\u001b[49m\n\u001b[1;32m    278\u001b[0m \u001b[38;5;28;01mif\u001b[39;00m \u001b[38;5;124m'\u001b[39m\u001b[38;5;124m-gw\u001b[39m\u001b[38;5;124m'\u001b[39m \u001b[38;5;129;01min\u001b[39;00m args \u001b[38;5;129;01mor\u001b[39;00m \u001b[38;5;124m'\u001b[39m\u001b[38;5;124m-gh\u001b[39m\u001b[38;5;124m'\u001b[39m \u001b[38;5;129;01min\u001b[39;00m args:\n\u001b[1;32m    279\u001b[0m     _config\u001b[38;5;241m.\u001b[39mset_graph_size(gwidth, gheight)\n",
      "File \u001b[0;32m/Applications/STATA/utilities/pystata/stata.py:325\u001b[0m, in \u001b[0;36mrun\u001b[0;34m(cmd, quietly, echo, inline)\u001b[0m\n\u001b[1;32m    323\u001b[0m \u001b[38;5;124m        _stata_wrk2(\u001b[39m\u001b[38;5;124m\"\u001b[39m\u001b[38;5;124mqui include \u001b[39m\u001b[38;5;124m\"\u001b[39m\u001b[38;5;124m + tmpf, None, False, 1)\u001b[39m\n\u001b[1;32m    324\u001b[0m \u001b[38;5;124m    else:\u001b[39m\n\u001b[0;32m--> 325\u001b[0m \u001b[38;5;124m        _stata_wrk2(\u001b[39m\u001b[38;5;124;43m\"\u001b[39;49m\u001b[38;5;124;43minclude \u001b[39;49m\u001b[38;5;124;43m\"\u001b[39;49m\u001b[38;5;124;43m + tmpf, None, False, 1)\u001b[39;49m\n\u001b[1;32m    327\u001b[0m \u001b[38;5;124mif inline:\u001b[39m\n\u001b[1;32m    328\u001b[0m \u001b[38;5;124m    if config.get_stipython()>=3:\u001b[39m\n",
      "File \u001b[0;32m/Applications/STATA/utilities/pystata/stata.py:116\u001b[0m, in \u001b[0;36m_stata_wrk2\u001b[0;34m(cmd, real_cmd, colon, mode)\u001b[0m\n\u001b[1;32m    114\u001b[0m         err \u001b[38;5;241m=\u001b[39m callback[\u001b[38;5;241m0\u001b[39m]\n\u001b[1;32m    115\u001b[0m         callback\u001b[38;5;241m.\u001b[39mclear()\n\u001b[0;32m--> 116\u001b[0m         \u001b[38;5;28;01mraise\u001b[39;00m \u001b[38;5;167;01mSystemError\u001b[39;00m(err)\n\u001b[1;32m    117\u001b[0m \u001b[38;5;28;01mexcept\u001b[39;00m \u001b[38;5;167;01mKeyboardInterrupt\u001b[39;00m:\n\u001b[1;32m    118\u001b[0m     outputter\u001b[38;5;241m.\u001b[39mdone()\n",
      "\u001b[0;31mSystemError\u001b[0m: \n. \n.  \n. synth   bmprison  \nCould not load plugin: /Users/brunokomel/Library/Application Support/Stata/ado/\n> plus/s/synthopt.plugin\n(error occurred while loading synth.ado)\nr(9999);\nr(9999);\n"
     ]
    }
   ],
   "source": [
    "%%stata\n",
    "\n",
    " \n",
    "synth   bmprison  \n",
    "            bmprison(1990) bmprison(1992) bmprison(1991) bmprison(1988)\n",
    "            alcohol(1990) aidscapita(1990) aidscapita(1991) \n",
    "            income ur poverty black(1990) black(1991) black(1992) \n",
    "            perc1519(1990)\n",
    "            ,       \n",
    "        trunit(48) trperiod(1993) unitnames(state) \n",
    "        mspeperiod(1985(1)1993) resultsperiod(1985(1)2000)\n",
    "        keep(../data/synth/synth_bmprate.dta) replace fig\n",
    "        \n",
    "        mat list e(V_matrix)\n",
    "        \n",
    "\n"
   ]
  }
 ],
 "metadata": {
  "kernelspec": {
   "display_name": "Python 3 (ipykernel)",
   "language": "python",
   "name": "python3"
  },
  "language_info": {
   "codemirror_mode": {
    "name": "ipython",
    "version": 3
   },
   "file_extension": ".py",
   "mimetype": "text/x-python",
   "name": "python",
   "nbconvert_exporter": "python",
   "pygments_lexer": "ipython3",
   "version": "3.10.5"
  },
  "varInspector": {
   "cols": {
    "lenName": 16,
    "lenType": 16,
    "lenVar": 40
   },
   "kernels_config": {
    "python": {
     "delete_cmd_postfix": "",
     "delete_cmd_prefix": "del ",
     "library": "var_list.py",
     "varRefreshCmd": "print(var_dic_list())"
    },
    "r": {
     "delete_cmd_postfix": ") ",
     "delete_cmd_prefix": "rm(",
     "library": "var_list.r",
     "varRefreshCmd": "cat(var_dic_list()) "
    }
   },
   "types_to_exclude": [
    "module",
    "function",
    "builtin_function_or_method",
    "instance",
    "_Feature"
   ],
   "window_display": false
  }
 },
 "nbformat": 4,
 "nbformat_minor": 5
}
