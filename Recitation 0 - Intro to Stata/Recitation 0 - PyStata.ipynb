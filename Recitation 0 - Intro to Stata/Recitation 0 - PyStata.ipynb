{
 "cells": [
  {
   "cell_type": "code",
   "execution_count": 1,
   "id": "ff2ddeb6",
   "metadata": {},
   "outputs": [
    {
     "name": "stdout",
     "output_type": "stream",
     "text": [
      "\n",
      "  ___  ____  ____  ____  ____ ®\n",
      " /__    /   ____/   /   ____/      18.0\n",
      "___/   /   /___/   /   /___/       SE—Standard Edition\n",
      "\n",
      " Statistics and Data Science       Copyright 1985-2023 StataCorp LLC\n",
      "                                   StataCorp\n",
      "                                   4905 Lakeway Drive\n",
      "                                   College Station, Texas 77845 USA\n",
      "                                   800-STATA-PC        https://www.stata.com\n",
      "                                   979-696-4600        stata@stata.com\n",
      "\n",
      "Stata license: Unlimited-user network, expiring 31 Aug 2024\n",
      "Serial number: 401809300159\n",
      "  Licensed to: Bruno Komel\n",
      "               University of Pittsburgh\n",
      "\n",
      "Notes:\n",
      "      1. Unicode is supported; see help unicode_advice.\n",
      "      2. Maximum number of variables is set to 5,000 but can be increased;\n",
      "          see help set_maxvar.\n"
     ]
    }
   ],
   "source": [
    "import stata_setup \n",
    "import pandas as pd\n",
    "stata_setup.config(\"/Applications/STATA\",\"se\")"
   ]
  },
  {
   "cell_type": "code",
   "execution_count": 2,
   "id": "81009211",
   "metadata": {},
   "outputs": [
    {
     "name": "stdout",
     "output_type": "stream",
     "text": [
      "\n",
      ". \n",
      ". pwd\n",
      "/Users/brunokomel/Documents/Pitt/Year 3/TA - Econ 3080/econ-3080-recitations/Re\n",
      "> citation 0 - Intro to Stata\n",
      "\n",
      ". \n"
     ]
    }
   ],
   "source": [
    "%%stata\n",
    "\n",
    "pwd"
   ]
  },
  {
   "cell_type": "code",
   "execution_count": 3,
   "id": "3fe46b75",
   "metadata": {},
   "outputs": [
    {
     "name": "stdout",
     "output_type": "stream",
     "text": [
      "\n",
      ". \n",
      ". cd \"~/Documents/Pitt/Year 3/TA - Econ 3080/econ-3080-recitations/Recitation 0\n",
      ">  - Intro to Stata\"\n",
      "/Users/brunokomel/Documents/Pitt/Year 3/TA - Econ 3080/econ-3080-recitations/Re\n",
      "> citation 0 - Intro to Stata\n",
      "\n",
      ". \n"
     ]
    }
   ],
   "source": [
    "%%stata\n",
    "\n",
    "cd \"~/Documents/Pitt/Year 3/TA - Econ 3080/econ-3080-recitations/Recitation 0 - Intro to Stata\"\n"
   ]
  },
  {
   "cell_type": "code",
   "execution_count": 4,
   "id": "a6f1d4f7",
   "metadata": {},
   "outputs": [
    {
     "name": "stdout",
     "output_type": "stream",
     "text": [
      "\n",
      ". \n",
      ". import delimited \"https://github.com/brunokomel/econ-3080-recitations/blob/ma\n",
      "> in/Recitation%200%20-%20Intro%20to%20Stata/metrics_fall_2023_grades.csv\", cle\n",
      "> ar\n",
      "(encoding automatically selected: UTF-8)\n",
      "(194 vars, 0 obs)\n",
      "\n",
      ". \n"
     ]
    }
   ],
   "source": [
    "%%stata \n",
    "\n",
    "import delimited \"https://github.com/brunokomel/econ-3080-recitations/blob/main/Recitation%200%20-%20Intro%20to%20Stata/metrics_fall_2023_grades.csv\", clear\n"
   ]
  },
  {
   "cell_type": "markdown",
   "id": "63290a29",
   "metadata": {},
   "source": [
    "• $\\textbf{Browse}$ ($\\texttt{browse [varlist]}$): Opens data browser to view these variables"
   ]
  },
  {
   "cell_type": "code",
   "execution_count": 5,
   "id": "cbffc725",
   "metadata": {},
   "outputs": [
    {
     "ename": "SystemError",
     "evalue": "\n. \n. browse\ncommand browse is unrecognized\nr(199);\nr(199);\n",
     "output_type": "error",
     "traceback": [
      "\u001b[0;31m---------------------------------------------------------------------------\u001b[0m",
      "\u001b[0;31mSystemError\u001b[0m                               Traceback (most recent call last)",
      "Input \u001b[0;32mIn [5]\u001b[0m, in \u001b[0;36m<cell line: 1>\u001b[0;34m()\u001b[0m\n\u001b[0;32m----> 1\u001b[0m \u001b[43mget_ipython\u001b[49m\u001b[43m(\u001b[49m\u001b[43m)\u001b[49m\u001b[38;5;241;43m.\u001b[39;49m\u001b[43mrun_cell_magic\u001b[49m\u001b[43m(\u001b[49m\u001b[38;5;124;43m'\u001b[39;49m\u001b[38;5;124;43mstata\u001b[39;49m\u001b[38;5;124;43m'\u001b[39;49m\u001b[43m,\u001b[49m\u001b[43m \u001b[49m\u001b[38;5;124;43m'\u001b[39;49m\u001b[38;5;124;43m'\u001b[39;49m\u001b[43m,\u001b[49m\u001b[43m \u001b[49m\u001b[38;5;124;43m'\u001b[39;49m\u001b[38;5;130;43;01m\\n\u001b[39;49;00m\u001b[38;5;124;43mbrowse\u001b[39;49m\u001b[38;5;130;43;01m\\n\u001b[39;49;00m\u001b[38;5;124;43m'\u001b[39;49m\u001b[43m)\u001b[49m\n",
      "File \u001b[0;32m/Library/Frameworks/Python.framework/Versions/3.10/lib/python3.10/site-packages/IPython/core/interactiveshell.py:2358\u001b[0m, in \u001b[0;36mInteractiveShell.run_cell_magic\u001b[0;34m(self, magic_name, line, cell)\u001b[0m\n\u001b[1;32m   2356\u001b[0m \u001b[38;5;28;01mwith\u001b[39;00m \u001b[38;5;28mself\u001b[39m\u001b[38;5;241m.\u001b[39mbuiltin_trap:\n\u001b[1;32m   2357\u001b[0m     args \u001b[38;5;241m=\u001b[39m (magic_arg_s, cell)\n\u001b[0;32m-> 2358\u001b[0m     result \u001b[38;5;241m=\u001b[39m \u001b[43mfn\u001b[49m\u001b[43m(\u001b[49m\u001b[38;5;241;43m*\u001b[39;49m\u001b[43margs\u001b[49m\u001b[43m,\u001b[49m\u001b[43m \u001b[49m\u001b[38;5;241;43m*\u001b[39;49m\u001b[38;5;241;43m*\u001b[39;49m\u001b[43mkwargs\u001b[49m\u001b[43m)\u001b[49m\n\u001b[1;32m   2359\u001b[0m \u001b[38;5;28;01mreturn\u001b[39;00m result\n",
      "File \u001b[0;32m/Applications/STATA/utilities/pystata/ipython/stpymagic.py:276\u001b[0m, in \u001b[0;36mPyStataMagic.stata\u001b[0;34m(self, line, cell, local_ns)\u001b[0m\n\u001b[1;32m    274\u001b[0m     _stata\u001b[38;5;241m.\u001b[39mrun(cell, quietly\u001b[38;5;241m=\u001b[39m\u001b[38;5;28;01mTrue\u001b[39;00m, inline\u001b[38;5;241m=\u001b[39m_config\u001b[38;5;241m.\u001b[39mstconfig[\u001b[38;5;124m'\u001b[39m\u001b[38;5;124mgrshow\u001b[39m\u001b[38;5;124m'\u001b[39m])\n\u001b[1;32m    275\u001b[0m \u001b[38;5;28;01melse\u001b[39;00m:\n\u001b[0;32m--> 276\u001b[0m     \u001b[43m_stata\u001b[49m\u001b[38;5;241;43m.\u001b[39;49m\u001b[43mrun\u001b[49m\u001b[43m(\u001b[49m\u001b[43mcell\u001b[49m\u001b[43m,\u001b[49m\u001b[43m \u001b[49m\u001b[43mquietly\u001b[49m\u001b[38;5;241;43m=\u001b[39;49m\u001b[38;5;28;43;01mFalse\u001b[39;49;00m\u001b[43m,\u001b[49m\u001b[43m \u001b[49m\u001b[43minline\u001b[49m\u001b[38;5;241;43m=\u001b[39;49m\u001b[43m_config\u001b[49m\u001b[38;5;241;43m.\u001b[39;49m\u001b[43mstconfig\u001b[49m\u001b[43m[\u001b[49m\u001b[38;5;124;43m'\u001b[39;49m\u001b[38;5;124;43mgrshow\u001b[39;49m\u001b[38;5;124;43m'\u001b[39;49m\u001b[43m]\u001b[49m\u001b[43m)\u001b[49m\n\u001b[1;32m    278\u001b[0m \u001b[38;5;28;01mif\u001b[39;00m \u001b[38;5;124m'\u001b[39m\u001b[38;5;124m-gw\u001b[39m\u001b[38;5;124m'\u001b[39m \u001b[38;5;129;01min\u001b[39;00m args \u001b[38;5;129;01mor\u001b[39;00m \u001b[38;5;124m'\u001b[39m\u001b[38;5;124m-gh\u001b[39m\u001b[38;5;124m'\u001b[39m \u001b[38;5;129;01min\u001b[39;00m args:\n\u001b[1;32m    279\u001b[0m     _config\u001b[38;5;241m.\u001b[39mset_graph_size(gwidth, gheight)\n",
      "File \u001b[0;32m/Applications/STATA/utilities/pystata/stata.py:325\u001b[0m, in \u001b[0;36mrun\u001b[0;34m(cmd, quietly, echo, inline)\u001b[0m\n\u001b[1;32m    323\u001b[0m \u001b[38;5;124m        _stata_wrk2(\u001b[39m\u001b[38;5;124m\"\u001b[39m\u001b[38;5;124mqui include \u001b[39m\u001b[38;5;124m\"\u001b[39m\u001b[38;5;124m + tmpf, None, False, 1)\u001b[39m\n\u001b[1;32m    324\u001b[0m \u001b[38;5;124m    else:\u001b[39m\n\u001b[0;32m--> 325\u001b[0m \u001b[38;5;124m        _stata_wrk2(\u001b[39m\u001b[38;5;124;43m\"\u001b[39;49m\u001b[38;5;124;43minclude \u001b[39;49m\u001b[38;5;124;43m\"\u001b[39;49m\u001b[38;5;124;43m + tmpf, None, False, 1)\u001b[39;49m\n\u001b[1;32m    327\u001b[0m \u001b[38;5;124mif inline:\u001b[39m\n\u001b[1;32m    328\u001b[0m \u001b[38;5;124m    if config.get_stipython()>=3:\u001b[39m\n",
      "File \u001b[0;32m/Applications/STATA/utilities/pystata/stata.py:116\u001b[0m, in \u001b[0;36m_stata_wrk2\u001b[0;34m(cmd, real_cmd, colon, mode)\u001b[0m\n\u001b[1;32m    114\u001b[0m         err \u001b[38;5;241m=\u001b[39m callback[\u001b[38;5;241m0\u001b[39m]\n\u001b[1;32m    115\u001b[0m         callback\u001b[38;5;241m.\u001b[39mclear()\n\u001b[0;32m--> 116\u001b[0m         \u001b[38;5;28;01mraise\u001b[39;00m \u001b[38;5;167;01mSystemError\u001b[39;00m(err)\n\u001b[1;32m    117\u001b[0m \u001b[38;5;28;01mexcept\u001b[39;00m \u001b[38;5;167;01mKeyboardInterrupt\u001b[39;00m:\n\u001b[1;32m    118\u001b[0m     outputter\u001b[38;5;241m.\u001b[39mdone()\n",
      "\u001b[0;31mSystemError\u001b[0m: \n. \n. browse\ncommand browse is unrecognized\nr(199);\nr(199);\n"
     ]
    }
   ],
   "source": [
    "%%stata \n",
    "\n",
    "browse"
   ]
  },
  {
   "cell_type": "code",
   "execution_count": 6,
   "id": "09c80e73",
   "metadata": {},
   "outputs": [
    {
     "name": "stdout",
     "output_type": "stream",
     "text": [
      "\n",
      ". \n",
      ". import delimited \"https://raw.githubusercontent.com/brunokomel/econ-3080-reci\n",
      "> tations/main/Recitation%200%20-%20Intro%20to%20Stata/metrics_fall_2023_grades\n",
      "> .csv\", clear\n",
      "(encoding automatically selected: UTF-8)\n",
      "(2 vars, 1 obs)\n",
      "\n",
      ". \n"
     ]
    }
   ],
   "source": [
    "%%stata -doutd df1 \n",
    "\n",
    "import delimited \"https://raw.githubusercontent.com/brunokomel/econ-3080-recitations/main/Recitation%200%20-%20Intro%20to%20Stata/metrics_fall_2023_grades.csv\", clear\n"
   ]
  },
  {
   "cell_type": "code",
   "execution_count": null,
   "id": "73a9136a",
   "metadata": {},
   "outputs": [],
   "source": [
    "display(df1)"
   ]
  },
  {
   "cell_type": "code",
   "execution_count": null,
   "id": "067bcdc5",
   "metadata": {},
   "outputs": [],
   "source": [
    "%%stata -doutd df1 \n",
    "\n",
    "import excel \"https://github.com/brunokomel/econ-3080-recitations/raw/main/Recitation%200%20-%20Intro%20to%20Stata/metrics_fall_2023_grades.xlsx\", clear"
   ]
  },
  {
   "cell_type": "code",
   "execution_count": null,
   "id": "2883dcd6",
   "metadata": {},
   "outputs": [],
   "source": [
    "display(df1)"
   ]
  },
  {
   "cell_type": "code",
   "execution_count": null,
   "id": "383cd613",
   "metadata": {},
   "outputs": [],
   "source": [
    "%%stata\n",
    "\n",
    "sysdir"
   ]
  },
  {
   "cell_type": "markdown",
   "id": "ff4a1304",
   "metadata": {},
   "source": [
    "# Data Cleaning"
   ]
  },
  {
   "cell_type": "code",
   "execution_count": null,
   "id": "dbf7c139",
   "metadata": {},
   "outputs": [],
   "source": [
    "%%stata -doutd df1\n",
    "\n",
    "sysuse auto, clear"
   ]
  },
  {
   "cell_type": "code",
   "execution_count": null,
   "id": "afb9394e",
   "metadata": {},
   "outputs": [],
   "source": [
    "display(df1)"
   ]
  },
  {
   "cell_type": "code",
   "execution_count": null,
   "id": "4291ab20",
   "metadata": {},
   "outputs": [],
   "source": [
    "%%stata\n",
    "\n",
    "bysort rep78: sum price mpg headroom if foreign == 0"
   ]
  },
  {
   "cell_type": "code",
   "execution_count": null,
   "id": "1aa4cbd2",
   "metadata": {},
   "outputs": [],
   "source": [
    "%%stata \n",
    "\n",
    "sum price mpg headroom if foreign == 0 & rep78 == 1 \n",
    "\n",
    "sum price mpg headroom if foreign == 0 & rep78 == 2"
   ]
  },
  {
   "cell_type": "markdown",
   "id": "f6d13c68",
   "metadata": {},
   "source": [
    "$\\textbf{Order}$ $(\\texttt{order [varlist]}$): Relocates columns in data browser $\\\\$\n",
    "$\\textbf{Sort}$ $(\\texttt{sort [varlist]}$): Sorts row by values (e.g. highest to lowest\n",
    "wages)"
   ]
  },
  {
   "cell_type": "code",
   "execution_count": null,
   "id": "122f4d1d",
   "metadata": {},
   "outputs": [],
   "source": [
    "%%stata -doutd df1"
   ]
  },
  {
   "cell_type": "code",
   "execution_count": null,
   "id": "20fcb602",
   "metadata": {},
   "outputs": [],
   "source": [
    "%%stata -doutd df2\n",
    "\n",
    "order make mpg price\n",
    "\n",
    "sort mpg"
   ]
  },
  {
   "cell_type": "code",
   "execution_count": null,
   "id": "c5e66d70",
   "metadata": {},
   "outputs": [],
   "source": [
    "display(df1)\n"
   ]
  },
  {
   "cell_type": "code",
   "execution_count": null,
   "id": "48230ec8",
   "metadata": {},
   "outputs": [],
   "source": [
    "display(df2)"
   ]
  },
  {
   "cell_type": "markdown",
   "id": "cb12bce6",
   "metadata": {},
   "source": [
    "$\\textbf{Tag duplicates}$ ($\\texttt{duplicates tag [varlist]}$): Generates variable representing number of duplicates for particular value (e.g. ID numbers)"
   ]
  },
  {
   "cell_type": "code",
   "execution_count": null,
   "id": "8cf7ad0b",
   "metadata": {},
   "outputs": [],
   "source": [
    "%%stata -doutd df2 \n",
    "\n",
    "duplicates tag mpg , gen(dup_mpg)"
   ]
  },
  {
   "cell_type": "code",
   "execution_count": null,
   "id": "01d61cbd",
   "metadata": {},
   "outputs": [],
   "source": [
    "display(df2)"
   ]
  },
  {
   "cell_type": "code",
   "execution_count": null,
   "id": "1a58f5fe",
   "metadata": {},
   "outputs": [],
   "source": [
    "%%stata\n",
    "\n",
    "gen price_per_pound = price / weight\n",
    "replace price_per_pound = 1 if mpg > 15 | foreign != 1"
   ]
  },
  {
   "cell_type": "code",
   "execution_count": null,
   "id": "5eb4abdf",
   "metadata": {},
   "outputs": [],
   "source": [
    "%%stata\n",
    "\n",
    "sum weight\n",
    "\n",
    "return list"
   ]
  },
  {
   "cell_type": "code",
   "execution_count": null,
   "id": "a465c2a8",
   "metadata": {},
   "outputs": [],
   "source": [
    "%%stata -doutd df2 \n",
    "\n",
    "quietly sum weight  // quietly (or, equivalently, qui) suppresses the output\n",
    "\n",
    "local avg_weight = r(mean)\n",
    "\n",
    "gen heavy = 0\n",
    "replace heavy = 1 if weight >= `avg_weight'"
   ]
  },
  {
   "cell_type": "code",
   "execution_count": null,
   "id": "b8f41895",
   "metadata": {},
   "outputs": [],
   "source": [
    "display(df2)"
   ]
  },
  {
   "cell_type": "code",
   "execution_count": null,
   "id": "855d2c4b",
   "metadata": {},
   "outputs": [],
   "source": [
    "%%stata\n",
    "\n",
    "sum heavy\n",
    "\n",
    "sum dup_mpg"
   ]
  },
  {
   "cell_type": "code",
   "execution_count": null,
   "id": "27aa2571",
   "metadata": {},
   "outputs": [],
   "source": [
    "%%stata  -doutd df2\n",
    "\n",
    "label define wgt_cat 1 \"Heavy\" 0 \"Light\"\n",
    "label values heavy wgt_cat"
   ]
  },
  {
   "cell_type": "code",
   "execution_count": null,
   "id": "b90c16b7",
   "metadata": {},
   "outputs": [],
   "source": [
    "display(df2)"
   ]
  },
  {
   "cell_type": "markdown",
   "id": "0a705e28",
   "metadata": {},
   "source": [
    "# Data Inspection"
   ]
  },
  {
   "cell_type": "code",
   "execution_count": null,
   "id": "d795f861",
   "metadata": {},
   "outputs": [],
   "source": [
    "%%stata\n",
    "\n",
    "sum price mpg"
   ]
  },
  {
   "cell_type": "code",
   "execution_count": null,
   "id": "6dc6c362",
   "metadata": {},
   "outputs": [],
   "source": [
    "%%stata\n",
    "\n",
    "tab foreign"
   ]
  },
  {
   "cell_type": "code",
   "execution_count": null,
   "id": "8beb6341",
   "metadata": {},
   "outputs": [],
   "source": [
    "%%stata\n",
    "\n",
    "tab foreign heavy"
   ]
  },
  {
   "cell_type": "code",
   "execution_count": null,
   "id": "ad4d955b",
   "metadata": {},
   "outputs": [],
   "source": [
    "%%stata \n",
    "\n",
    "pwcorr foreign heavy\n"
   ]
  },
  {
   "cell_type": "markdown",
   "id": "35af7cbe",
   "metadata": {},
   "source": [
    "# Hypothesis Testing"
   ]
  },
  {
   "cell_type": "code",
   "execution_count": null,
   "id": "12ade607",
   "metadata": {},
   "outputs": [],
   "source": [
    "%%stata\n",
    "\n",
    "ttest weight, by(foreign)\n",
    "\n",
    "return list\n",
    "power twomeans `r(mu_1)' `r(mu_2)', sd(`r(sd_1)')"
   ]
  },
  {
   "cell_type": "code",
   "execution_count": null,
   "id": "c739108e",
   "metadata": {},
   "outputs": [],
   "source": [
    "%%stata\n",
    "\n",
    "ttest mpg == weight"
   ]
  },
  {
   "cell_type": "markdown",
   "id": "46c07965",
   "metadata": {},
   "source": [
    "# Regression"
   ]
  },
  {
   "cell_type": "code",
   "execution_count": null,
   "id": "bd1fa17f",
   "metadata": {},
   "outputs": [],
   "source": [
    "%%stata\n",
    "\n",
    "reg price weight rep78 foreign"
   ]
  },
  {
   "cell_type": "code",
   "execution_count": null,
   "id": "f8b1b9a3",
   "metadata": {},
   "outputs": [],
   "source": [
    "%%stata\n",
    "\n",
    "vif  // testing Multicolinearity (Some sources say VIF >=5 is too high, others say that 10 is an appropriate cut-off)"
   ]
  },
  {
   "cell_type": "code",
   "execution_count": null,
   "id": "ec872c95",
   "metadata": {},
   "outputs": [],
   "source": [
    "%%stata\n",
    "\n",
    "reg price weight rep78#foreign //partial interaction (only includes interaction terms)\n",
    "\n",
    "\n",
    "reg price weight rep78##foreign  // full interaction, includes interaction as well as individual terms"
   ]
  },
  {
   "cell_type": "code",
   "execution_count": null,
   "id": "7c86856e",
   "metadata": {},
   "outputs": [],
   "source": [
    "%%stata\n",
    "\n",
    "estat hettest //low p-value suggests presence of heteroskedasticity"
   ]
  },
  {
   "cell_type": "code",
   "execution_count": null,
   "id": "c0bb9e7b",
   "metadata": {},
   "outputs": [],
   "source": [
    "%%stata -doutd df2\n",
    "\n",
    "gen sample_reg = e(sample) //constructs dummy variable equal to 1 if obs included in regression"
   ]
  },
  {
   "cell_type": "code",
   "execution_count": null,
   "id": "2271c067",
   "metadata": {},
   "outputs": [],
   "source": [
    "display(df2)"
   ]
  },
  {
   "cell_type": "markdown",
   "id": "6212fcda",
   "metadata": {},
   "source": [
    "# Loops "
   ]
  },
  {
   "cell_type": "code",
   "execution_count": null,
   "id": "0bd7591c",
   "metadata": {},
   "outputs": [],
   "source": [
    "%%stata\n",
    "foreach v of varlist weight rep78 foreign{\n",
    "    reg price `v'\n",
    "}"
   ]
  },
  {
   "cell_type": "code",
   "execution_count": null,
   "id": "0b22857c",
   "metadata": {},
   "outputs": [],
   "source": [
    "%%stata \n",
    "\n",
    "forvalues i = 1/5{\n",
    "    reg price weight foreign if rep78 == `i'\n",
    "}"
   ]
  },
  {
   "cell_type": "code",
   "execution_count": null,
   "id": "4b297f86",
   "metadata": {},
   "outputs": [],
   "source": [
    "%%stata\n",
    "\n",
    "local i = 1 \n",
    "\n",
    "while `i' <= 5{\n",
    "    reg price weight foreign if rep78 == `i'\n",
    "    local i = `i' + 1\n",
    "}"
   ]
  },
  {
   "cell_type": "code",
   "execution_count": null,
   "id": "9b2f3b6d",
   "metadata": {},
   "outputs": [],
   "source": [
    "%%stata\n",
    "\n",
    "levelsof rep78, local(levels)\n",
    "\n",
    "foreach i of local levels{\n",
    "    reg price weight foreign if rep78 == `i'\n",
    "}"
   ]
  },
  {
   "cell_type": "markdown",
   "id": "6874d5ca",
   "metadata": {},
   "source": [
    "## Postestimation Results Retrieval (Important)"
   ]
  },
  {
   "cell_type": "code",
   "execution_count": null,
   "id": "e2858d94",
   "metadata": {},
   "outputs": [],
   "source": [
    "%%stata\n",
    "\n",
    "reg price weight foreign"
   ]
  },
  {
   "cell_type": "code",
   "execution_count": null,
   "id": "968c512e",
   "metadata": {},
   "outputs": [],
   "source": [
    "%%stata\n",
    "\n",
    "ereturn list"
   ]
  },
  {
   "cell_type": "code",
   "execution_count": null,
   "id": "624c68ef",
   "metadata": {},
   "outputs": [],
   "source": [
    "%%stata\n",
    "\n",
    "matrix list e(b)"
   ]
  },
  {
   "cell_type": "code",
   "execution_count": null,
   "id": "46beb404",
   "metadata": {},
   "outputs": [],
   "source": [
    "%%stata\n",
    "\n",
    "disp e(b)[1,1]"
   ]
  },
  {
   "cell_type": "markdown",
   "id": "15e3fbb9",
   "metadata": {},
   "source": [
    "# Other Stuff"
   ]
  },
  {
   "cell_type": "code",
   "execution_count": null,
   "id": "97623b47",
   "metadata": {},
   "outputs": [],
   "source": [
    "%%stata\n",
    "\n",
    "preserve"
   ]
  },
  {
   "cell_type": "code",
   "execution_count": null,
   "id": "2515ee0b",
   "metadata": {},
   "outputs": [],
   "source": [
    "%%stata -doutd df3\n",
    "\n",
    "collapse (mean) price weight foreign (median) m_price = price, by(rep78)"
   ]
  },
  {
   "cell_type": "code",
   "execution_count": null,
   "id": "95cd40df",
   "metadata": {},
   "outputs": [],
   "source": [
    "display(df3)"
   ]
  },
  {
   "cell_type": "code",
   "execution_count": null,
   "id": "dd622976",
   "metadata": {},
   "outputs": [],
   "source": [
    "%%stata -doutd df3 \n",
    "\n",
    "restore"
   ]
  },
  {
   "cell_type": "code",
   "execution_count": null,
   "id": "44cdc276",
   "metadata": {},
   "outputs": [],
   "source": [
    "display(df3)"
   ]
  },
  {
   "cell_type": "markdown",
   "id": "4369c369",
   "metadata": {},
   "source": [
    "# Common Errors"
   ]
  },
  {
   "cell_type": "code",
   "execution_count": null,
   "id": "4082c00d",
   "metadata": {},
   "outputs": [],
   "source": [
    "%%stata\n",
    "\n",
    "unique make"
   ]
  },
  {
   "cell_type": "code",
   "execution_count": null,
   "id": "199c4253",
   "metadata": {},
   "outputs": [],
   "source": [
    "%%stata\n",
    "\n",
    "gen make_new = make + 2"
   ]
  },
  {
   "cell_type": "code",
   "execution_count": null,
   "id": "6ec93062",
   "metadata": {},
   "outputs": [],
   "source": [
    "%%stata\n",
    "\n",
    "gen newvar = .\n",
    "\n",
    "reg price newvar weight"
   ]
  },
  {
   "cell_type": "markdown",
   "id": "115ddcd3",
   "metadata": {},
   "source": [
    "# What about plots?"
   ]
  },
  {
   "cell_type": "code",
   "execution_count": null,
   "id": "3e7cacbd",
   "metadata": {
    "scrolled": true
   },
   "outputs": [],
   "source": [
    "display(df2)"
   ]
  },
  {
   "cell_type": "code",
   "execution_count": null,
   "id": "4824565f",
   "metadata": {},
   "outputs": [],
   "source": [
    "%%stata \n",
    "\n",
    "set scheme s2color"
   ]
  },
  {
   "cell_type": "code",
   "execution_count": null,
   "id": "8b1923f1",
   "metadata": {
    "scrolled": false
   },
   "outputs": [],
   "source": [
    "%%stata\n",
    "\n",
    "graph twoway scatter weight length\n",
    "graph save wl, replace"
   ]
  },
  {
   "cell_type": "code",
   "execution_count": null,
   "id": "f1d72554",
   "metadata": {},
   "outputs": [],
   "source": [
    "%%stata\n",
    "\n",
    "set scheme gg_tableau\n",
    "\n",
    "graph twoway scatter weight length\n",
    "graph save wl, replace"
   ]
  },
  {
   "cell_type": "code",
   "execution_count": null,
   "id": "d316ebd3",
   "metadata": {},
   "outputs": [],
   "source": [
    "%%stata\n",
    "\n",
    "graph twoway scatter price mpg\n",
    "graph save pm, replace"
   ]
  },
  {
   "cell_type": "code",
   "execution_count": null,
   "id": "10074032",
   "metadata": {},
   "outputs": [],
   "source": [
    "%%stata\n",
    "\n",
    "set scheme white_tableau"
   ]
  },
  {
   "cell_type": "code",
   "execution_count": null,
   "id": "c07eb73a",
   "metadata": {},
   "outputs": [],
   "source": [
    "%%stata\n",
    "\n",
    "graph combine wl.gph pm.gph"
   ]
  },
  {
   "cell_type": "code",
   "execution_count": null,
   "id": "bfbda6c9",
   "metadata": {},
   "outputs": [],
   "source": [
    "%%stata\n",
    "\n",
    "graph twoway (scatter price mpg) (lfit price mpg)"
   ]
  },
  {
   "cell_type": "code",
   "execution_count": null,
   "id": "cc232749",
   "metadata": {},
   "outputs": [],
   "source": [
    "%%stata\n",
    "\n",
    "hist price, freq"
   ]
  },
  {
   "cell_type": "code",
   "execution_count": null,
   "id": "0afa30e3",
   "metadata": {},
   "outputs": [],
   "source": [
    "%%stata\n",
    "\n",
    "graph box price\n"
   ]
  },
  {
   "cell_type": "code",
   "execution_count": null,
   "id": "ca7a63c9",
   "metadata": {},
   "outputs": [],
   "source": [
    "%%stata\n",
    "\n",
    "graph bar price, by(foreign)"
   ]
  },
  {
   "cell_type": "code",
   "execution_count": null,
   "id": "010737ef",
   "metadata": {},
   "outputs": [],
   "source": []
  },
  {
   "cell_type": "code",
   "execution_count": null,
   "id": "2e89f930",
   "metadata": {},
   "outputs": [],
   "source": []
  }
 ],
 "metadata": {
  "kernelspec": {
   "display_name": "Python 3 (ipykernel)",
   "language": "python",
   "name": "python3"
  },
  "language_info": {
   "codemirror_mode": {
    "name": "ipython",
    "version": 3
   },
   "file_extension": ".py",
   "mimetype": "text/x-python",
   "name": "python",
   "nbconvert_exporter": "python",
   "pygments_lexer": "ipython3",
   "version": "3.10.5"
  },
  "varInspector": {
   "cols": {
    "lenName": 16,
    "lenType": 16,
    "lenVar": 40
   },
   "kernels_config": {
    "python": {
     "delete_cmd_postfix": "",
     "delete_cmd_prefix": "del ",
     "library": "var_list.py",
     "varRefreshCmd": "print(var_dic_list())"
    },
    "r": {
     "delete_cmd_postfix": ") ",
     "delete_cmd_prefix": "rm(",
     "library": "var_list.r",
     "varRefreshCmd": "cat(var_dic_list()) "
    }
   },
   "types_to_exclude": [
    "module",
    "function",
    "builtin_function_or_method",
    "instance",
    "_Feature"
   ],
   "window_display": false
  }
 },
 "nbformat": 4,
 "nbformat_minor": 5
}
