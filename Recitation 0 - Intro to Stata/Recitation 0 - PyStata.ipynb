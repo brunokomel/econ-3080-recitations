{
 "cells": [
  {
   "cell_type": "code",
   "execution_count": null,
   "id": "ff2ddeb6",
   "metadata": {},
   "outputs": [],
   "source": [
    "import stata_setup \n",
    "import pandas as pd\n",
    "stata_setup.config(\"/Applications/STATA\",\"se\")"
   ]
  },
  {
   "cell_type": "code",
   "execution_count": null,
   "id": "81009211",
   "metadata": {},
   "outputs": [],
   "source": [
    "%%stata\n",
    "\n",
    "pwd"
   ]
  },
  {
   "cell_type": "code",
   "execution_count": null,
   "id": "3fe46b75",
   "metadata": {},
   "outputs": [],
   "source": [
    "%%stata\n",
    "\n",
    "cd \"~/Documents/Pitt/Year 3/TA - Econ 3080/econ-3080-recitations/Recitation 0 - Intro to Stata\"\n"
   ]
  },
  {
   "cell_type": "code",
   "execution_count": null,
   "id": "a6f1d4f7",
   "metadata": {},
   "outputs": [],
   "source": [
    "%%stata \n",
    "\n",
    "import delimited \"https://github.com/brunokomel/econ-3080-recitations/blob/main/Recitation%200%20-%20Intro%20to%20Stata/metrics_fall_2023_grades.csv\", clear\n"
   ]
  },
  {
   "cell_type": "markdown",
   "id": "63290a29",
   "metadata": {},
   "source": [
    "• $\\textbf{Browse}$ ($\\texttt{browse [varlist]}$): Opens data browser to view these variables"
   ]
  },
  {
   "cell_type": "code",
   "execution_count": null,
   "id": "cbffc725",
   "metadata": {},
   "outputs": [],
   "source": [
    "%%stata \n",
    "\n",
    "browse"
   ]
  },
  {
   "cell_type": "code",
   "execution_count": null,
   "id": "09c80e73",
   "metadata": {},
   "outputs": [],
   "source": [
    "%%stata -doutd df1 \n",
    "\n",
    "import delimited \"https://raw.githubusercontent.com/brunokomel/econ-3080-recitations/main/Recitation%200%20-%20Intro%20to%20Stata/metrics_fall_2023_grades.csv\", clear\n"
   ]
  },
  {
   "cell_type": "code",
   "execution_count": null,
   "id": "73a9136a",
   "metadata": {},
   "outputs": [],
   "source": [
    "display(df1)"
   ]
  },
  {
   "cell_type": "code",
   "execution_count": null,
   "id": "067bcdc5",
   "metadata": {},
   "outputs": [],
   "source": [
    "%%stata -doutd df1 \n",
    "\n",
    "import excel \"https://github.com/brunokomel/econ-3080-recitations/raw/main/Recitation%200%20-%20Intro%20to%20Stata/metrics_fall_2023_grades.xlsx\", clear"
   ]
  },
  {
   "cell_type": "code",
   "execution_count": null,
   "id": "2883dcd6",
   "metadata": {},
   "outputs": [],
   "source": [
    "display(df1)"
   ]
  },
  {
   "cell_type": "code",
   "execution_count": null,
   "id": "383cd613",
   "metadata": {},
   "outputs": [],
   "source": [
    "%%stata\n",
    "\n",
    "sysdir"
   ]
  },
  {
   "cell_type": "markdown",
   "id": "ff4a1304",
   "metadata": {},
   "source": [
    "# Data Cleaning"
   ]
  },
  {
   "cell_type": "code",
   "execution_count": null,
   "id": "dbf7c139",
   "metadata": {},
   "outputs": [],
   "source": [
    "%%stata -doutd df1\n",
    "\n",
    "sysuse auto, clear"
   ]
  },
  {
   "cell_type": "code",
   "execution_count": null,
   "id": "afb9394e",
   "metadata": {},
   "outputs": [],
   "source": [
    "display(df1)"
   ]
  },
  {
   "cell_type": "code",
   "execution_count": null,
   "id": "1aa4cbd2",
   "metadata": {},
   "outputs": [],
   "source": [
    "%%stata \n",
    "\n",
    "summarize price mpg headroom if foreign == 0 & rep78 == 1 \n",
    "\n",
    "sum price mpg headroom if foreign == 0 & rep78 == 2"
   ]
  },
  {
   "cell_type": "code",
   "execution_count": null,
   "id": "96ff808f",
   "metadata": {},
   "outputs": [],
   "source": [
    "%%stata\n",
    "\n",
    "bysort rep78: sum price mpg headroom if foreign == 0"
   ]
  },
  {
   "cell_type": "markdown",
   "id": "f6d13c68",
   "metadata": {},
   "source": [
    "$\\textbf{Order}$ $(\\texttt{order [varlist]}$): Relocates columns in data browser $\\\\$\n",
    "$\\textbf{Sort}$ $(\\texttt{sort [varlist]}$): Sorts row by values (e.g. highest to lowest\n",
    "wages)"
   ]
  },
  {
   "cell_type": "code",
   "execution_count": null,
   "id": "122f4d1d",
   "metadata": {},
   "outputs": [],
   "source": [
    "%%stata -doutd df1\n",
    "\n",
    "sysuse auto"
   ]
  },
  {
   "cell_type": "code",
   "execution_count": null,
   "id": "20fcb602",
   "metadata": {
    "scrolled": true
   },
   "outputs": [],
   "source": [
    "%%stata -doutd df2\n",
    "\n",
    "order make mpg price\n",
    "\n",
    "sort mpg"
   ]
  },
  {
   "cell_type": "code",
   "execution_count": null,
   "id": "c5e66d70",
   "metadata": {},
   "outputs": [],
   "source": [
    "display(df1)\n"
   ]
  },
  {
   "cell_type": "code",
   "execution_count": null,
   "id": "48230ec8",
   "metadata": {},
   "outputs": [],
   "source": [
    "display(df2)"
   ]
  },
  {
   "cell_type": "markdown",
   "id": "cb12bce6",
   "metadata": {},
   "source": [
    "$\\textbf{Tag duplicates}$ ($\\texttt{duplicates tag [varlist]}$): Generates variable representing number of duplicates for particular value (e.g. ID numbers)"
   ]
  },
  {
   "cell_type": "code",
   "execution_count": null,
   "id": "8cf7ad0b",
   "metadata": {},
   "outputs": [],
   "source": [
    "%%stata -doutd df2 \n",
    "\n",
    "duplicates tag mpg , gen(dup_mpg)"
   ]
  },
  {
   "cell_type": "code",
   "execution_count": null,
   "id": "01d61cbd",
   "metadata": {},
   "outputs": [],
   "source": [
    "display(df2)"
   ]
  },
  {
   "cell_type": "code",
   "execution_count": null,
   "id": "1a58f5fe",
   "metadata": {},
   "outputs": [],
   "source": [
    "%%stata\n",
    "\n",
    "gen price_per_pound = price / weight\n",
    "replace price_per_pound = 1 if mpg > 15 | foreign != 1"
   ]
  },
  {
   "cell_type": "code",
   "execution_count": null,
   "id": "5eb4abdf",
   "metadata": {},
   "outputs": [],
   "source": [
    "%%stata\n",
    "\n",
    "sum weight\n",
    "\n",
    "return list"
   ]
  },
  {
   "cell_type": "code",
   "execution_count": null,
   "id": "a465c2a8",
   "metadata": {},
   "outputs": [],
   "source": [
    "%%stata -doutd df2 \n",
    "\n",
    "quietly sum weight  // quietly (or, equivalently, qui) suppresses the output\n",
    "\n",
    "local avg_weight = r(mean)\n",
    "\n",
    "gen heavy = 0\n",
    "replace heavy = 1 if weight >= `avg_weight'"
   ]
  },
  {
   "cell_type": "code",
   "execution_count": null,
   "id": "b8f41895",
   "metadata": {},
   "outputs": [],
   "source": [
    "display(df2)"
   ]
  },
  {
   "cell_type": "code",
   "execution_count": null,
   "id": "855d2c4b",
   "metadata": {},
   "outputs": [],
   "source": [
    "%%stata\n",
    "\n",
    "sum heavy\n",
    "\n",
    "sum dup_mpg"
   ]
  },
  {
   "cell_type": "code",
   "execution_count": null,
   "id": "27aa2571",
   "metadata": {},
   "outputs": [],
   "source": [
    "%%stata  -doutd df2\n",
    "\n",
    "label define wgt_cat 1 \"Heavy\" 0 \"Light\"\n",
    "label values heavy wgt_cat"
   ]
  },
  {
   "cell_type": "code",
   "execution_count": null,
   "id": "b90c16b7",
   "metadata": {},
   "outputs": [],
   "source": [
    "display(df2)"
   ]
  },
  {
   "cell_type": "markdown",
   "id": "0a705e28",
   "metadata": {},
   "source": [
    "# Data Inspection"
   ]
  },
  {
   "cell_type": "code",
   "execution_count": null,
   "id": "d795f861",
   "metadata": {},
   "outputs": [],
   "source": [
    "%%stata\n",
    "\n",
    "sum price mpg"
   ]
  },
  {
   "cell_type": "code",
   "execution_count": null,
   "id": "6dc6c362",
   "metadata": {},
   "outputs": [],
   "source": [
    "%%stata\n",
    "\n",
    "tab foreign"
   ]
  },
  {
   "cell_type": "code",
   "execution_count": null,
   "id": "8beb6341",
   "metadata": {},
   "outputs": [],
   "source": [
    "%%stata\n",
    "\n",
    "tab foreign heavy"
   ]
  },
  {
   "cell_type": "code",
   "execution_count": null,
   "id": "ad4d955b",
   "metadata": {},
   "outputs": [],
   "source": [
    "%%stata \n",
    "\n",
    "pwcorr foreign heavy\n"
   ]
  },
  {
   "cell_type": "markdown",
   "id": "35af7cbe",
   "metadata": {},
   "source": [
    "# Hypothesis Testing"
   ]
  },
  {
   "cell_type": "code",
   "execution_count": null,
   "id": "12ade607",
   "metadata": {},
   "outputs": [],
   "source": [
    "%%stata\n",
    "\n",
    "ttest weight, by(foreign)\n",
    "\n",
    "return list\n",
    "power twomeans `r(mu_1)' `r(mu_2)', sd(`r(sd_1)')"
   ]
  },
  {
   "cell_type": "code",
   "execution_count": null,
   "id": "c739108e",
   "metadata": {},
   "outputs": [],
   "source": [
    "%%stata\n",
    "\n",
    "ttest mpg == weight"
   ]
  },
  {
   "cell_type": "markdown",
   "id": "46c07965",
   "metadata": {},
   "source": [
    "# Regression"
   ]
  },
  {
   "cell_type": "code",
   "execution_count": null,
   "id": "bd1fa17f",
   "metadata": {},
   "outputs": [],
   "source": [
    "%%stata\n",
    "\n",
    "reg price weight rep78 foreign"
   ]
  },
  {
   "cell_type": "code",
   "execution_count": null,
   "id": "f8b1b9a3",
   "metadata": {},
   "outputs": [],
   "source": [
    "%%stata\n",
    "\n",
    "vif  // testing Multicolinearity (Some sources say VIF >=5 is too high, others say that 10 is an appropriate cut-off)"
   ]
  },
  {
   "cell_type": "code",
   "execution_count": null,
   "id": "ec872c95",
   "metadata": {},
   "outputs": [],
   "source": [
    "%%stata\n",
    "\n",
    "reg price weight rep78#foreign //partial interaction (only includes interaction terms)\n",
    "\n",
    "\n",
    "reg price weight rep78##foreign  // full interaction, includes interaction as well as individual terms"
   ]
  },
  {
   "cell_type": "code",
   "execution_count": null,
   "id": "7c86856e",
   "metadata": {},
   "outputs": [],
   "source": [
    "%%stata\n",
    "\n",
    "estat hettest //low p-value suggests presence of heteroskedasticity"
   ]
  },
  {
   "cell_type": "code",
   "execution_count": null,
   "id": "c0bb9e7b",
   "metadata": {},
   "outputs": [],
   "source": [
    "%%stata -doutd df2\n",
    "\n",
    "gen sample_reg = e(sample) //constructs dummy variable equal to 1 if obs included in regression"
   ]
  },
  {
   "cell_type": "code",
   "execution_count": null,
   "id": "2271c067",
   "metadata": {},
   "outputs": [],
   "source": [
    "display(df2)"
   ]
  },
  {
   "cell_type": "markdown",
   "id": "6212fcda",
   "metadata": {},
   "source": [
    "# Loops "
   ]
  },
  {
   "cell_type": "code",
   "execution_count": null,
   "id": "0bd7591c",
   "metadata": {},
   "outputs": [],
   "source": [
    "%%stata\n",
    "foreach v of varlist weight rep78 foreign{\n",
    "    reg price `v'\n",
    "}"
   ]
  },
  {
   "cell_type": "code",
   "execution_count": null,
   "id": "0b22857c",
   "metadata": {},
   "outputs": [],
   "source": [
    "%%stata \n",
    "\n",
    "forvalues i = 1/5{\n",
    "    reg price weight foreign if rep78 == `i'\n",
    "}"
   ]
  },
  {
   "cell_type": "code",
   "execution_count": null,
   "id": "4b297f86",
   "metadata": {},
   "outputs": [],
   "source": [
    "%%stata\n",
    "\n",
    "local i = 1 \n",
    "\n",
    "while `i' <= 5{\n",
    "    reg price weight foreign if rep78 == `i'\n",
    "    local i = `i' + 1\n",
    "}"
   ]
  },
  {
   "cell_type": "code",
   "execution_count": null,
   "id": "9b2f3b6d",
   "metadata": {},
   "outputs": [],
   "source": [
    "%%stata\n",
    "\n",
    "levelsof rep78, local(levels)\n",
    "\n",
    "foreach i of local levels{\n",
    "    reg price weight foreign if rep78 == `i'\n",
    "}"
   ]
  },
  {
   "cell_type": "markdown",
   "id": "6874d5ca",
   "metadata": {},
   "source": [
    "## Postestimation Results Retrieval (Important)"
   ]
  },
  {
   "cell_type": "code",
   "execution_count": null,
   "id": "e2858d94",
   "metadata": {},
   "outputs": [],
   "source": [
    "%%stata\n",
    "\n",
    "reg price weight foreign"
   ]
  },
  {
   "cell_type": "code",
   "execution_count": null,
   "id": "968c512e",
   "metadata": {},
   "outputs": [],
   "source": [
    "%%stata\n",
    "\n",
    "ereturn list"
   ]
  },
  {
   "cell_type": "code",
   "execution_count": null,
   "id": "624c68ef",
   "metadata": {},
   "outputs": [],
   "source": [
    "%%stata\n",
    "\n",
    "matrix list e(b)"
   ]
  },
  {
   "cell_type": "code",
   "execution_count": null,
   "id": "46beb404",
   "metadata": {},
   "outputs": [],
   "source": [
    "%%stata\n",
    "\n",
    "disp e(b)[1,1]"
   ]
  },
  {
   "cell_type": "markdown",
   "id": "15e3fbb9",
   "metadata": {},
   "source": [
    "# Other Stuff"
   ]
  },
  {
   "cell_type": "code",
   "execution_count": null,
   "id": "97623b47",
   "metadata": {},
   "outputs": [],
   "source": [
    "%%stata\n",
    "\n",
    "preserve"
   ]
  },
  {
   "cell_type": "code",
   "execution_count": null,
   "id": "2515ee0b",
   "metadata": {},
   "outputs": [],
   "source": [
    "%%stata -doutd df3\n",
    "\n",
    "collapse (mean) price weight foreign (median) m_price = price, by(rep78)"
   ]
  },
  {
   "cell_type": "code",
   "execution_count": null,
   "id": "95cd40df",
   "metadata": {},
   "outputs": [],
   "source": [
    "display(df3)"
   ]
  },
  {
   "cell_type": "code",
   "execution_count": null,
   "id": "dd622976",
   "metadata": {},
   "outputs": [],
   "source": [
    "%%stata -doutd df3 \n",
    "\n",
    "restore"
   ]
  },
  {
   "cell_type": "code",
   "execution_count": null,
   "id": "44cdc276",
   "metadata": {},
   "outputs": [],
   "source": [
    "display(df3)"
   ]
  },
  {
   "cell_type": "markdown",
   "id": "4369c369",
   "metadata": {},
   "source": [
    "# Common Errors"
   ]
  },
  {
   "cell_type": "code",
   "execution_count": null,
   "id": "4082c00d",
   "metadata": {},
   "outputs": [],
   "source": [
    "%%stata\n",
    "\n",
    "unique make"
   ]
  },
  {
   "cell_type": "code",
   "execution_count": null,
   "id": "199c4253",
   "metadata": {},
   "outputs": [],
   "source": [
    "%%stata\n",
    "\n",
    "gen make_new = make + 2\n",
    "\n",
    "// Operations with variables of different types/classes"
   ]
  },
  {
   "cell_type": "code",
   "execution_count": null,
   "id": "6ec93062",
   "metadata": {},
   "outputs": [],
   "source": [
    "%%stata\n",
    "\n",
    "gen newvar = . \n",
    "\n",
    "reg price newvar weight\n",
    "\n",
    "// No valid observations in a regression"
   ]
  },
  {
   "cell_type": "markdown",
   "id": "115ddcd3",
   "metadata": {},
   "source": [
    "# What about plots?"
   ]
  },
  {
   "cell_type": "code",
   "execution_count": null,
   "id": "3e7cacbd",
   "metadata": {
    "scrolled": true
   },
   "outputs": [],
   "source": [
    "display(df2)"
   ]
  },
  {
   "cell_type": "code",
   "execution_count": null,
   "id": "4824565f",
   "metadata": {},
   "outputs": [],
   "source": [
    "%%stata \n",
    "\n",
    "set scheme s2color"
   ]
  },
  {
   "cell_type": "code",
   "execution_count": null,
   "id": "8b1923f1",
   "metadata": {
    "scrolled": false
   },
   "outputs": [],
   "source": [
    "%%stata\n",
    "\n",
    "graph twoway scatter weight length\n",
    "graph save wl, replace"
   ]
  },
  {
   "cell_type": "code",
   "execution_count": null,
   "id": "f1d72554",
   "metadata": {},
   "outputs": [],
   "source": [
    "%%stata\n",
    "\n",
    "set scheme gg_tableau\n",
    "\n",
    "graph twoway scatter weight length\n",
    "graph save wl, replace"
   ]
  },
  {
   "cell_type": "code",
   "execution_count": null,
   "id": "d316ebd3",
   "metadata": {},
   "outputs": [],
   "source": [
    "%%stata\n",
    "\n",
    "graph twoway scatter price mpg\n",
    "graph save pm, replace"
   ]
  },
  {
   "cell_type": "code",
   "execution_count": null,
   "id": "c07eb73a",
   "metadata": {
    "scrolled": true
   },
   "outputs": [],
   "source": [
    "%%stata\n",
    "\n",
    "graph combine wl.gph pm.gph"
   ]
  },
  {
   "cell_type": "code",
   "execution_count": null,
   "id": "139d492d",
   "metadata": {},
   "outputs": [],
   "source": [
    "%%stata\n",
    "\n",
    "set scheme white_tableau"
   ]
  },
  {
   "cell_type": "code",
   "execution_count": null,
   "id": "bfbda6c9",
   "metadata": {},
   "outputs": [],
   "source": [
    "%%stata\n",
    "\n",
    "graph twoway (scatter price mpg) (lfit price mpg)"
   ]
  },
  {
   "cell_type": "code",
   "execution_count": null,
   "id": "cc232749",
   "metadata": {},
   "outputs": [],
   "source": [
    "%%stata\n",
    "\n",
    "hist price, freq"
   ]
  },
  {
   "cell_type": "code",
   "execution_count": null,
   "id": "0afa30e3",
   "metadata": {},
   "outputs": [],
   "source": [
    "%%stata\n",
    "\n",
    "graph box price\n"
   ]
  },
  {
   "cell_type": "code",
   "execution_count": null,
   "id": "ca7a63c9",
   "metadata": {},
   "outputs": [],
   "source": [
    "%%stata\n",
    "\n",
    "graph bar price, by(foreign)"
   ]
  },
  {
   "cell_type": "code",
   "execution_count": null,
   "id": "010737ef",
   "metadata": {},
   "outputs": [],
   "source": []
  },
  {
   "cell_type": "code",
   "execution_count": null,
   "id": "2e89f930",
   "metadata": {},
   "outputs": [],
   "source": []
  }
 ],
 "metadata": {
  "kernelspec": {
   "display_name": "Python 3 (ipykernel)",
   "language": "python",
   "name": "python3"
  },
  "language_info": {
   "codemirror_mode": {
    "name": "ipython",
    "version": 3
   },
   "file_extension": ".py",
   "mimetype": "text/x-python",
   "name": "python",
   "nbconvert_exporter": "python",
   "pygments_lexer": "ipython3",
   "version": "3.10.5"
  },
  "varInspector": {
   "cols": {
    "lenName": 16,
    "lenType": 16,
    "lenVar": 40
   },
   "kernels_config": {
    "python": {
     "delete_cmd_postfix": "",
     "delete_cmd_prefix": "del ",
     "library": "var_list.py",
     "varRefreshCmd": "print(var_dic_list())"
    },
    "r": {
     "delete_cmd_postfix": ") ",
     "delete_cmd_prefix": "rm(",
     "library": "var_list.r",
     "varRefreshCmd": "cat(var_dic_list()) "
    }
   },
   "types_to_exclude": [
    "module",
    "function",
    "builtin_function_or_method",
    "instance",
    "_Feature"
   ],
   "window_display": false
  }
 },
 "nbformat": 4,
 "nbformat_minor": 5
}
