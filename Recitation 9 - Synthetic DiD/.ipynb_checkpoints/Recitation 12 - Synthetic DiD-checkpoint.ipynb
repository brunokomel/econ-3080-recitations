{
 "cells": [
  {
   "cell_type": "code",
   "execution_count": null,
   "id": "246f8b7c",
   "metadata": {
    "scrolled": true
   },
   "outputs": [],
   "source": [
    "import stata_setup\n",
    "import pandas as pd\n",
    "stata_setup.config(\"/Applications/STATA\",\"se\")"
   ]
  },
  {
   "cell_type": "code",
   "execution_count": null,
   "id": "bb929586",
   "metadata": {},
   "outputs": [],
   "source": [
    "%%stata\n",
    "\n",
    "\n",
    "// Date: 4/13/23\n",
    "// By: Bruno Kömel\n",
    "    \n",
    "    \n",
    "**********************************\n",
    "*                                *\n",
    "*                                *\n",
    "*            Example 1           *\n",
    "*                                *\n",
    "*                                *\n",
    "**********************************\n",
    "\n",
    "\n",
    "// Synthetic Difference-in-Differences\n",
    "// By Dmitry Arkhangelsky, Susan Athey, David A. Hirshberg, Guido W. Imbens, and Stefan Wager\n",
    "// https://www.aeaweb.org/articles?id=10.1257/aer.20190159\n",
    "\n",
    "cd \"/Users/brunokomel/Library/Mobile Documents/com~apple~CloudDocs/Documents/Pitt/Year_2/TA - Econ 3080/Recitations/Recitation 12 - Synthetic DiD\""
   ]
  },
  {
   "cell_type": "code",
   "execution_count": null,
   "id": "2c8ced31",
   "metadata": {},
   "outputs": [],
   "source": [
    "%%stata\n",
    "\n",
    "global seed_num = 824 \n",
    "\n",
    "set scheme gg_tableau\n",
    "\n",
    "webuse set www.damianclarke.net/stata/\n",
    "webuse prop99_example.dta, clear"
   ]
  },
  {
   "cell_type": "code",
   "execution_count": null,
   "id": "0b2e1f2e",
   "metadata": {},
   "outputs": [],
   "source": [
    "%%stata -doutd df\n",
    "\n",
    "webuse prop99_example.dta, clear"
   ]
  },
  {
   "cell_type": "code",
   "execution_count": null,
   "id": "8f2f042f",
   "metadata": {
    "scrolled": true
   },
   "outputs": [],
   "source": [
    "display(df)"
   ]
  },
  {
   "cell_type": "code",
   "execution_count": null,
   "id": "99cb9726",
   "metadata": {},
   "outputs": [],
   "source": [
    "%%stata\n",
    "\n",
    "\n",
    "// ssc install sdid, replace\n",
    "// or \n",
    "// net install sdid, "
   ]
  },
  {
   "cell_type": "code",
   "execution_count": null,
   "id": "5bddad03",
   "metadata": {},
   "outputs": [],
   "source": [
    "%%stata\n",
    "\n",
    "\n",
    "#delimit ;\n",
    "\n",
    "local scheme = \"gg_tableau\" ;\n",
    "\n",
    "sdid packspercapita state year treated, vce(placebo) reps(100) seed($seed_num) g1on\n",
    "     graph g1_opt(xtitle(\"\") ylabel(-35(5)10) scheme(`scheme')) \n",
    "     g2_opt(ylabel(0(50)150) xlabel(1970(5)2000) ytitle(\"Packs per capita\") \n",
    "            xtitle(\"\") text(125 1995 \"ATT = `e(ATT)'\" \" SE = (`e(se)')\") scheme(`scheme'))\n",
    "    graph_export(sdid_, .png);\n",
    "#delimit cr"
   ]
  },
  {
   "cell_type": "markdown",
   "id": "e5932281",
   "metadata": {},
   "source": [
    "## Let's break down the command. \n",
    "• Again, #delimit; just changes the character that marks the end of a command\n",
    "\n",
    "• Then sdid requires you to specify a y variable (here packspercapita) and then it requires a group variable, that distinguishes the units and a time variable to distinguish the periods. \n",
    "\n",
    "• Finally you need a treated variable that is equal to 1 for all periods in which the treated unit was treated, and 0 otherwise (always 0 for control units)\n",
    "\n",
    "• vce allows you to specify how you want to calculate the standard erros. Placebo is the only method that does not require more than one treated unit per treated period, so we go with that\n",
    "\n",
    "• Reps specifies how many times to run the procedure (for standard error estimation)\n",
    "\n",
    "• seed sets the seed\n",
    "\n",
    "• g1on turns \"on\" the option to output the plot with the weights assigned to each unit\n",
    "\n",
    "• g1_opt and g2_opt allow you to personalize the plot\n",
    "\n",
    "• graph_export specifies how you want the graph to be saved in your working directory. In this case it'll be saved as \"sdid_trends1989 and sdid_weights1989\" , where 1989 is the treatment year\n"
   ]
  },
  {
   "cell_type": "code",
   "execution_count": null,
   "id": "8a2859f4",
   "metadata": {},
   "outputs": [],
   "source": [
    "%%stata\n",
    "\n",
    "\n",
    "// We can also use this command to output a regular old synthetic control plot\n",
    "\n",
    "#delimit ;\n",
    "\n",
    "local scheme = \"gg_tableau\" ;\n",
    "\n",
    "sdid packspercapita state year treated, vce(placebo) reps(100) seed($seed_num) method(sc) g1on\n",
    "     graph g1_opt(xtitle(\"\") ylabel(-35(5)10) scheme(`scheme')) \n",
    "     g2_opt(ylabel(0(50)150) xlabel(1970(5)2000) ytitle(\"Packs per capita\") \n",
    "            xtitle(\"\") text(125 1995 \"ATT = `e(ATT)'\" \" SE = (`e(se)')\") scheme(`scheme'))\n",
    "    graph_export(sdid_, .png);\n",
    "#delimit cr\n",
    "                                                                                \n",
    "// Notice that the only difference is that we specified \"method(sc)\"                                                                                "
   ]
  },
  {
   "cell_type": "code",
   "execution_count": null,
   "id": "d807fe4f",
   "metadata": {},
   "outputs": [],
   "source": [
    "%%stata\n",
    "\n",
    "// As well as a DiD\n",
    "#delimit ;\n",
    "\n",
    "local scheme = \"gg_tableau\" ;\n",
    "\n",
    "sdid packspercapita state year treated, vce(placebo) reps(100) seed($seed_num) method(did) g1on\n",
    "     graph g1_opt(xtitle(\"\") ylabel(-35(5)10) scheme(`scheme')) \n",
    "     g2_opt(ylabel(0(50)150) xlabel(1970(5)2000) ytitle(\"Packs per capita\") \n",
    "            xtitle(\"\") text(125 1995 \"ATT = `e(ATT)'\" \" SE = (`e(se)')\") scheme(`scheme'))\n",
    "    graph_export(sdid_, .png);\n",
    "#delimit cr\n",
    "// Notice that the only difference is that we specified \"method(did)\""
   ]
  },
  {
   "cell_type": "code",
   "execution_count": null,
   "id": "2d37cd43",
   "metadata": {},
   "outputs": [],
   "source": [
    "%%stata\n",
    "\n",
    "\n",
    "// Just to show how to add covariates to the specification\n",
    "*create a uniform variable to use as a control\n",
    "gen r=runiform()\n",
    "\n",
    "*run sdid\n",
    "eststo sdid_1: sdid packspercapita state year treated, vce(placebo) seed($seed_num)\n",
    "eststo sdid_2: sdid packspercapita state year treated, vce(placebo) seed($seed_num) covariates(r, projected)\n",
    "\n",
    "// for details on the \"projected\", let's check the helpfile\n",
    "\n",
    "*create a table\n",
    "esttab sdid_1 sdid_2, starlevel (\"*\" 0.10 \"**\" 0.05 \"***\" 0.01) b(%-9.3f) se(%-9.3f)\n",
    "\n"
   ]
  },
  {
   "cell_type": "code",
   "execution_count": null,
   "id": "2bd626fd",
   "metadata": {},
   "outputs": [],
   "source": [
    "%%stata\n",
    "\n",
    "\n",
    "**********************************\n",
    "*                                *\n",
    "*                                *\n",
    "*            Example 2           *\n",
    "*                                *\n",
    "*                                *\n",
    "**********************************\n",
    "\n",
    "\n",
    "// Example from help file\n",
    "\n",
    "webuse set damianclarke.net/stata/\n",
    "\n",
    "webuse quota_example.dta, clear\n",
    "// we can look at this other example where we have women in parliament as the outcome variable \n",
    "// and quota as the treatment variable. So quota is 1 in country-years when the observation had a quota for women in parliament\n"
   ]
  },
  {
   "cell_type": "code",
   "execution_count": null,
   "id": "0f962bdc",
   "metadata": {},
   "outputs": [],
   "source": [
    "%%stata -doutd df2\n",
    "\n",
    "webuse quota_example.dta, clear"
   ]
  },
  {
   "cell_type": "code",
   "execution_count": null,
   "id": "6b3fe50e",
   "metadata": {
    "scrolled": true
   },
   "outputs": [],
   "source": [
    "display(df2)"
   ]
  },
  {
   "cell_type": "code",
   "execution_count": null,
   "id": "de133646",
   "metadata": {},
   "outputs": [],
   "source": [
    "%%stata\n",
    "\n",
    "\n",
    "sdid womparl country year quota, vce(bootstrap) seed($seed_num)\n",
    "\n",
    "sdid womparl country year quota, vce(bootstrap) seed($seed_num) covariates(lngdp, projected)\n"
   ]
  },
  {
   "cell_type": "code",
   "execution_count": null,
   "id": "0276019a",
   "metadata": {
    "scrolled": true
   },
   "outputs": [],
   "source": [
    "%%stata \n",
    "\n",
    "drop if lngdp == .\n",
    "\n",
    "sdid womparl country year quota, vce(bootstrap) seed($seed_num) covariates(lngdp, projected)"
   ]
  },
  {
   "cell_type": "code",
   "execution_count": null,
   "id": "84dedf65",
   "metadata": {},
   "outputs": [],
   "source": [
    "%%stata \n",
    "\n",
    "// don't actually run this.\n",
    "\n",
    "sdid womparl country year quota, vce(bootstrap) seed($seed_num) covariates(lngdp) // this might take forever\n",
    "\n",
    "// This is because the \"projected\" is faster than the \"optimized\""
   ]
  },
  {
   "cell_type": "code",
   "execution_count": null,
   "id": "12783334",
   "metadata": {},
   "outputs": [],
   "source": [
    "%%stata\n",
    "\n",
    "\n",
    "**********************************\n",
    "*                                *\n",
    "*                                *\n",
    "*            Example 3           *\n",
    "*                                *\n",
    "*                                *\n",
    "**********************************\n",
    "\n",
    "\n",
    "///Another example - Just to show that the period weights may be different, depending on the data\n",
    "// First, let's just generate some data\n",
    "\n",
    "clear\n",
    "\n",
    "local units = 30\n",
    "local start = 1\n",
    "local end \t= 60\n",
    "\n",
    "local time = `end' - `start' + 1\n",
    "local obsv = `units' * `time'\n",
    "set obs `obsv'\n",
    "\n",
    "egen id\t   = seq(), b(`time')  \n",
    "egen t \t   = seq(), f(`start') t(`end') \t\n",
    "\n",
    "sort  id t\n",
    "xtset id t\n"
   ]
  },
  {
   "cell_type": "code",
   "execution_count": null,
   "id": "32a69c5b",
   "metadata": {},
   "outputs": [],
   "source": [
    "%%stata\n",
    "\n",
    "\n",
    "set seed $seed_num\n",
    "\n",
    "gen Y \t   \t\t= 0\t\t// outcome variable\t\n",
    "gen D \t   \t\t= 0\t\t// intervention variable\n",
    "gen cohort      = .  \t// treatment cohort\n",
    "gen effect      = .\t\t// treatment effect size\n",
    "gen first_treat = .\t\t// when the treatment happens for each cohort\n",
    "gen rel_time\t= .     // time - first_treat\n",
    "\n",
    "levelsof id, local(lvls)\n",
    "foreach x of local lvls {\n",
    "\tlocal chrt = runiformint(0,5)\t\n",
    "\treplace cohort = `chrt' if id==`x'\n",
    "}\n",
    "\n"
   ]
  },
  {
   "cell_type": "code",
   "execution_count": null,
   "id": "1ca54b0d",
   "metadata": {},
   "outputs": [],
   "source": [
    "%%stata\n",
    "\n",
    "\n",
    "levelsof cohort , local(lvls)  \n",
    "\n",
    "foreach x of local lvls {\n",
    "\t\n",
    "\tlocal eff = runiformint(2,10)\n",
    "\t\treplace effect = `eff' if cohort==`x'\n",
    "\t\t\t\n",
    "\tlocal timing = runiformint(`start',`end' + 20)\t// \n",
    "\treplace first_treat = `timing' if cohort==`x'\n",
    "\treplace first_treat = . if first_treat > `end'\n",
    "\t\treplace D = 1 if cohort==`x' & t>= `timing' \n",
    "}\n",
    "\n",
    "replace rel_time = t - first_treat\n",
    "replace Y = id + t + cond(D==1, effect * rel_time, 0) + rnormal()\n"
   ]
  },
  {
   "cell_type": "code",
   "execution_count": null,
   "id": "5ad8eb7d",
   "metadata": {
    "scrolled": false
   },
   "outputs": [],
   "source": [
    "%%stata\n",
    "\n",
    "\n",
    "// Here cond(s,a,b,[,c]) executes a if x is true and nonmissing, b if x is false, and c if x is missing; a if c is not specified and x evaluates to missing\n",
    "\n",
    "\n",
    "rename t year\n",
    "\n",
    "xtline Y, overlay legend(off)\n",
    "\n",
    "sdid Y id year D, vce(bootstrap) seed($seed_num) \n",
    "\n",
    "sdid Y id year D, vce(bootstrap) seed($seed_num) graph g1on\n",
    "\n",
    "// Notice that here we have staggered treatment, and the command automatically recognizes that"
   ]
  },
  {
   "cell_type": "markdown",
   "id": "f074424c",
   "metadata": {},
   "source": [
    "## Notice the weights above"
   ]
  },
  {
   "cell_type": "code",
   "execution_count": null,
   "id": "37a41104",
   "metadata": {},
   "outputs": [],
   "source": [
    "%%stata\n",
    "\n",
    "\n",
    "\n",
    "**********************************\n",
    "*                                *\n",
    "*                                *\n",
    "*            Exercise            *\n",
    "*                                *\n",
    "*                                *\n",
    "**********************************\n",
    "\n",
    "// Let's use sdid to perform the same analysis we did in Recitation 6\n",
    "use https://github.com/scunning1975/mixtape/raw/master/texas.dta, clear\n",
    "\n",
    "gen treated = 0\n",
    "replace treated = 1 if year >= 1993 & statefip == 48\n"
   ]
  },
  {
   "cell_type": "code",
   "execution_count": null,
   "id": "83a69572",
   "metadata": {},
   "outputs": [],
   "source": [
    "%%stata\n",
    "\n",
    "\n",
    "// 1. Recreate the plot from Recitation 6 using sdid instead of synth. Make sure to use the synthetic control method.\n",
    "\n",
    "#delimit ;\n",
    "\n",
    "local scheme = \"gg_tableau\" ;\n",
    "\n",
    "sdid bmprison state year treated , vce(placebo) reps(100) seed($seed_num) method(sc) g1on\n",
    "     graph g1_opt(xtitle(\"\") scheme(`scheme')) \n",
    "     g2_opt( ytitle(\"Packs per capita\") \n",
    "            xtitle(\"\") text(15000 1995 \"ATT = `e(ATT)'\" \" SE = (`e(se)')\") scheme(`scheme'))\n",
    "    graph_export(sdid_, .png);\n",
    "\t\n",
    "#delimit cr"
   ]
  },
  {
   "cell_type": "code",
   "execution_count": null,
   "id": "67c13690",
   "metadata": {
    "scrolled": false
   },
   "outputs": [],
   "source": [
    "%%stata\n",
    "\n",
    "// 2. Use sdid instead and compare the ATT, the weights, and the trends plot.\n",
    "\n",
    "#delimit ;\n",
    "\n",
    "local scheme = \"gg_tableau\" ;\n",
    "\n",
    "sdid bmprison state year treated , vce(placebo) reps(100) seed($seed_num) method(sdid) g1on\n",
    "     graph g1_opt(xtitle(\"\") scheme(`scheme')) \n",
    "     g2_opt( ytitle(\"Packs per capita\") \n",
    "            xtitle(\"\") text(15000 1995 \"ATT = `e(ATT)'\" \" SE = (`e(se)')\") scheme(`scheme'))\n",
    "    graph_export(sdid_, .png);\n",
    "\t\n",
    "#delimit cr\n",
    "        "
   ]
  },
  {
   "cell_type": "code",
   "execution_count": null,
   "id": "c2076113",
   "metadata": {},
   "outputs": [],
   "source": [
    "%%stata\n",
    "\n",
    "\n",
    "// 3. Marvel at how much easier and cleaner this was. \n",
    "// (And notice the omission of an ATT in the Recitation 6 file)"
   ]
  }
 ],
 "metadata": {
  "kernelspec": {
   "display_name": "Python 3 (ipykernel)",
   "language": "python",
   "name": "python3"
  },
  "language_info": {
   "codemirror_mode": {
    "name": "ipython",
    "version": 3
   },
   "file_extension": ".py",
   "mimetype": "text/x-python",
   "name": "python",
   "nbconvert_exporter": "python",
   "pygments_lexer": "ipython3",
   "version": "3.10.5"
  },
  "varInspector": {
   "cols": {
    "lenName": 16,
    "lenType": 16,
    "lenVar": 40
   },
   "kernels_config": {
    "python": {
     "delete_cmd_postfix": "",
     "delete_cmd_prefix": "del ",
     "library": "var_list.py",
     "varRefreshCmd": "print(var_dic_list())"
    },
    "r": {
     "delete_cmd_postfix": ") ",
     "delete_cmd_prefix": "rm(",
     "library": "var_list.r",
     "varRefreshCmd": "cat(var_dic_list()) "
    }
   },
   "types_to_exclude": [
    "module",
    "function",
    "builtin_function_or_method",
    "instance",
    "_Feature"
   ],
   "window_display": false
  }
 },
 "nbformat": 4,
 "nbformat_minor": 5
}
