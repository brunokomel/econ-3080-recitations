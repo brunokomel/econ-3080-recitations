{
 "cells": [
  {
   "cell_type": "code",
   "execution_count": 1,
   "id": "dca5438f",
   "metadata": {
    "scrolled": false
   },
   "outputs": [
    {
     "name": "stdout",
     "output_type": "stream",
     "text": [
      "\n",
      "  ___  ____  ____  ____  ____ ®\n",
      " /__    /   ____/   /   ____/      18.0\n",
      "___/   /   /___/   /   /___/       SE—Standard Edition\n",
      "\n",
      " Statistics and Data Science       Copyright 1985-2023 StataCorp LLC\n",
      "                                   StataCorp\n",
      "                                   4905 Lakeway Drive\n",
      "                                   College Station, Texas 77845 USA\n",
      "                                   800-STATA-PC        https://www.stata.com\n",
      "                                   979-696-4600        stata@stata.com\n",
      "\n",
      "Stata license: Unlimited-user network, expiring 31 Aug 2024\n",
      "Serial number: 401809300159\n",
      "  Licensed to: Bruno Komel\n",
      "               University of Pittsburgh\n",
      "\n",
      "Notes:\n",
      "      1. Unicode is supported; see help unicode_advice.\n",
      "      2. Maximum number of variables is set to 5,000 but can be increased;\n",
      "          see help set_maxvar.\n"
     ]
    }
   ],
   "source": [
    "import stata_setup\n",
    "import pandas as pd\n",
    "stata_setup.config(\"/Applications/STATA\",\"se\")"
   ]
  },
  {
   "cell_type": "code",
   "execution_count": null,
   "id": "14f83e26",
   "metadata": {},
   "outputs": [],
   "source": [
    "%%stata\n",
    "\n",
    "global recitation \"~/Documents/Pitt/Year_2/TA - Econ 3080/Recitations/Recitation 8 - Fuzzy RDD\"\n",
    "cd \"${recitation}\"\n",
    "\n",
    "// Thanks to https://evalf20.classes.andrewheiss.com/example/rdd-fuzzy/#fuzzy-parametric-estimation for this\n",
    "import delimited \"tutoring_program_fuzzy.csv\", clear "
   ]
  },
  {
   "cell_type": "markdown",
   "id": "f66bc16f",
   "metadata": {},
   "source": [
    "**Here's the setting:\n",
    "* Students take an entrance exam at the beginning of the school year\n",
    "* If they score 70 or below, they are enrolled in a free tutoring program\n",
    "* BUT we have some non-compliers. Both always takers and never takers.\n",
    "* Students take an exit exam at the end of the year"
   ]
  },
  {
   "cell_type": "code",
   "execution_count": null,
   "id": "d1072ffe",
   "metadata": {},
   "outputs": [],
   "source": [
    "%%stata\n",
    "\n",
    "// So, let's take a look at what we have:\n",
    "\n",
    "xi: twoway scatter i.tutoring_text entrance_exam, xline(70, lcolor(red)) \n",
    "    \n",
    "// The first thing that we can notice is that the cutoff is not strict. \n",
    "//There are observations on both sides of the cutoff that fall in either category."
   ]
  },
  {
   "cell_type": "code",
   "execution_count": null,
   "id": "3772547e",
   "metadata": {},
   "outputs": [],
   "source": [
    "%%stata\n",
    "\n",
    "// Next, we should try to get an idea of how many people are in each group (compliers, non-compliers, etc)\n",
    "// Let's generate a dummy for the \"treatment,\" which would have been assigned if we had a sharp RDD\n",
    "gen below_cutoff = 0\n",
    "replace below_cutoff = 1 if entrance_exam <= 70\n",
    "\n",
    "tab tutoring, gen(tutoring)\n",
    "\n",
    "bysort below_cutoff tutoring2: sum tutoring2"
   ]
  },
  {
   "cell_type": "code",
   "execution_count": null,
   "id": "e4251c05",
   "metadata": {},
   "outputs": [],
   "source": [
    "%%stata\n",
    "\n",
    "// Let's see if we can find some discontinuity in the plots?\n",
    "twoway (scatter exit_exam entrance_exam if tutoring2 == 1 ) ///\n",
    "\t(scatter exit_exam entrance_exam if tutoring2 == 0) ///\n",
    "\t(lfitci  exit_exam entrance_exam if tutoring2 == 1& entrance_exam <= 70 , ciplot(rline) color(red)) ///\n",
    "\t(lfitci  exit_exam entrance_exam if tutoring2 == 1& entrance_exam > 70 , ciplot(rline) color(red)) ///\n",
    "\t(lfitci  exit_exam entrance_exam if tutoring2 == 0& entrance_exam <= 70 ,  ciplot(rarea) color(green)) ///\n",
    "\t(lfitci  exit_exam entrance_exam if tutoring2 == 0& entrance_exam > 70 , ciplot(rarea) color(green)), /// \n",
    "\tlegend(lab(1 \"With Tutoring\") lab(2 \"No Tutoring\") lab(4 \"Tutoring Below Fit.\") ///\n",
    "\tlab(6 \"Tutoring Above Fit.\") lab(8 \"No Tut. Below Fit.\") lab(10 \"No Tut. Above Fit.\"))"
   ]
  },
  {
   "cell_type": "code",
   "execution_count": null,
   "id": "e8363c6d",
   "metadata": {},
   "outputs": [],
   "source": [
    "%%stata\n",
    "\n",
    "\n",
    "// Next, just so we can get an idea of how many compliers, and non-compliers we have, let's plot this\n",
    "// differently. Here I want to see the probability of receiving tutoring for the different socres that \n",
    "// people received, using bins of 5 points each.\n",
    "\n",
    "// To use the twoway bar command, we need to create a categorical variable for each score bin\n",
    "gen entr_score_cat =0\n",
    "\n",
    "forvalues i = 25(5)95{\n",
    "\treplace entr_score_cat = `i'/5 - 5 if entrance_exam > `i' & entrance_exam <= `i'+5\n",
    "}\n"
   ]
  },
  {
   "cell_type": "code",
   "execution_count": null,
   "id": "350895c3",
   "metadata": {},
   "outputs": [],
   "source": [
    "%%stata\n",
    "\n",
    "// And add a label so it looks slightly better\n",
    "forvalues i = 25(5)95{\n",
    "\tlabel define entr_score_cat_lab `=`i'/5 - 5' \"`=`i'+1' - `=`i'+5'\" , add\n",
    "}\n",
    "\n",
    "\n",
    "// I want to highlight what we're doing here, because it's not trivial.\n",
    "// Using the index `i' inside the loop tells stata to use whatever value of `i' is currently \"running\" \n",
    "// in the loop.\n",
    "// But what if you want a lagged index value? Or one with a lead?\n",
    "// Then you need to use `= `i' + 1' . Where you're basically running a small equation inside the ` ' "
   ]
  },
  {
   "cell_type": "code",
   "execution_count": null,
   "id": "43c2658c",
   "metadata": {},
   "outputs": [],
   "source": [
    "%%stata\n",
    "\n",
    "label values entr_score_cat entr_score_cat_lab\n",
    "\n",
    "save recitation8_data, replace"
   ]
  },
  {
   "cell_type": "code",
   "execution_count": null,
   "id": "1e670130",
   "metadata": {},
   "outputs": [],
   "source": [
    "%%stata -doutd df2\n",
    "\n",
    "use recitation8_data, replace"
   ]
  },
  {
   "cell_type": "code",
   "execution_count": null,
   "id": "49b70b86",
   "metadata": {},
   "outputs": [],
   "source": [
    "display(df2)\n",
    "# Note that in Stata, this would the \"entr_score_cat\" would display as the labels we attached"
   ]
  },
  {
   "cell_type": "code",
   "execution_count": null,
   "id": "7d8db6f3",
   "metadata": {},
   "outputs": [],
   "source": [
    "%%stata\n",
    "\n",
    "// And to get the probability, we need to generate a \"frequency\" by taking the mean of the dummy variable \n",
    "// over the number of observarions in each category\n",
    "\n",
    "egen frequency = mean(tutoring2), by(entr_score_cat)"
   ]
  },
  {
   "cell_type": "code",
   "execution_count": null,
   "id": "63965bf5",
   "metadata": {},
   "outputs": [],
   "source": [
    "%%stata\n",
    "\n",
    "graph bar tutoring2, over(entr_score_cat, gap(100)) outergap(*1.2) ytitle(\"Probability of Receiving Tutoring\")"
   ]
  },
  {
   "cell_type": "code",
   "execution_count": null,
   "id": "a31a40a4",
   "metadata": {},
   "outputs": [],
   "source": [
    "%%stata\n",
    "\n",
    "\n",
    "twoway (bar frequency  entr_score_cat,  xline(8.5, lwidth(thick) lcolor(red)) ///\n",
    "        xlabel(0(1)14,valuelabel alternate) barwidth(0.8)  ytitle(\"Probability of Receiving Tutoring\") ///\n",
    "        xtitle(\"Entrance Exam Score\") )"
   ]
  },
  {
   "cell_type": "code",
   "execution_count": null,
   "id": "153f897c",
   "metadata": {},
   "outputs": [],
   "source": [
    "%%stata\n",
    "\n",
    "// The key here is that some students above the cut-off receive tutoring, and some below the cut-off do not\n",
    "\n",
    "// Next, let's recenter our running variable\n",
    "gen entrance_centered = entrance_exam - 70\n",
    "\n",
    "// recall we've generated below_cutoff"
   ]
  },
  {
   "cell_type": "code",
   "execution_count": null,
   "id": "c2fe5aa5",
   "metadata": {},
   "outputs": [],
   "source": [
    "%%stata\n",
    "\n",
    "\n",
    "// Let's pretend this is a sharp RDD scenario:\n",
    "// first let's label some stuff\n",
    "label variable exit_exam \"Exit Exam\"\n",
    "label variable tutoring2 \"Received Tutoring\""
   ]
  },
  {
   "cell_type": "code",
   "execution_count": null,
   "id": "60657f54",
   "metadata": {},
   "outputs": [],
   "source": [
    "%%stata\n",
    "\n",
    "\n",
    "// And let's store our regressions to create a nice table \n",
    "eststo OLS: reg exit_exam entrance_centered tutoring2 if (entrance_centered >= -10 & entrance_centered <=10)\n",
    "    estadd scalar BW = 10\n",
    "// In this case we'd estimate an effect of 11.48\n",
    "// Note that I want to keep track of the size of the bandwidth for each of these regressions"
   ]
  },
  {
   "cell_type": "code",
   "execution_count": null,
   "id": "55e756c9",
   "metadata": {},
   "outputs": [],
   "source": [
    "%%stata\n",
    "// ssc install ivreg2\n",
    "// ssc install ranktest\n",
    "\n",
    "eststo IV: ivreg2 exit_exam entrance_centered ( tutoring2 = below_cutoff ) ///\n",
    "    if (entrance_centered >= -10 & entrance_centered <=10), robust \n",
    "    estadd scalar BW = 10\n",
    "// Now the coefficeint dropped to 9.74. This is the effect on compliers in the bandwidth (which we chose)"
   ]
  },
  {
   "cell_type": "code",
   "execution_count": null,
   "id": "6e8d037a",
   "metadata": {},
   "outputs": [],
   "source": [
    "%%stata\n",
    "\n",
    "eststo RDrob: rdrobust exit_exam entrance_centered, fuzzy(tutoring2) c(0)\n",
    "    estadd scalar BW = e(h_r)\n",
    "// And here it's pretty close to the 2sls\n",
    "// Note that you do not need to specify an insrtument with rdrobust."
   ]
  },
  {
   "cell_type": "code",
   "execution_count": null,
   "id": "622e3b58",
   "metadata": {},
   "outputs": [],
   "source": [
    "%%stata\n",
    "\n",
    "global latex \"/Users/brunokomel/Library/CloudStorage/Dropbox/Apps/Overleaf/Recitation - Tables\"\n",
    "cd \"${latex}\"\n",
    "\n",
    "// Using this method we get pretty close results!\n",
    "esttab OLS IV RDrob using \"table1.tex\",  sfmt(4) b(3) se(2) keep(tutoring2 RD_Estimate) ///\n",
    "varlabel(RD_Estimate \"Received Tutoring (Non-Parametric)\") label mtitles(\"OLS\" \"2SLS\" \"RD Robust\") ///\n",
    "scalars(\"N Observations\" \"BW Bandwidth Choice\") fragment replace\n",
    "\n",
    "/// Here, esttab will tell stata to compile your table\n",
    "/// using creates, or overwrites, a .tex file where your table will go (it'll go to the working directory)\n",
    "/// sfmt(x) will tell stata to show x characters after the decimal point for the \"general table values\" (catch-all)\n",
    "/// b(x) will tell stata to show x characters after the decimal point for the BETA coefficients\n",
    "/// se(x) will tell stata to show x characters after the decimal point for the STANDARD ERROS\n",
    "/// varlabel(z \" Z \" ) tells stata to label, on the table, the variable z as \" Z \"\n",
    "/// label tells stata to use the labels of the variables that have labels\n",
    "/// mtitles(\"Col 1 \" \"Col 2\" ...) assigns column titles to each of the estimates that you stored and appended\n",
    "/// scalars(\"X Name of X you want\" ...) tells stata to output the stored scalar/local \"X\" and give it the name that you want \n",
    "/// fragment tells stata that there will be more esttab's coming to append a table, and it removes some automatic things (like star captions)                                                                        \n",
    "/// replace will automatically save over the table that you previously created"
   ]
  },
  {
   "cell_type": "code",
   "execution_count": null,
   "id": "2634a74b",
   "metadata": {},
   "outputs": [],
   "source": [
    "%%stata \n",
    "\n",
    "esttab OLS IV RDrob ,  sfmt(4) b(3) se(2) keep(tutoring2 RD_Estimate) ///\n",
    "varlabel(RD_Estimate \"Received Tutoring (Non-Parametric)\") label mtitles(\"OLS\" \"2SLS\" \"RD Robust\") ///\n",
    "scalars(\"N Observations\" \"BW Bandwidth Choice\") fragment "
   ]
  },
  {
   "cell_type": "markdown",
   "id": "ab9b5ad0",
   "metadata": {},
   "source": [
    "# Exercise"
   ]
  },
  {
   "cell_type": "code",
   "execution_count": null,
   "id": "7ebfcd93",
   "metadata": {
    "scrolled": true
   },
   "outputs": [],
   "source": [
    "%%stata\n",
    "\n",
    "cd \"${recitation}\"\n",
    "\n",
    "use analysis.dta, clear\n",
    "\n",
    "// From Vincent Ponz and Clemente Tricaud's papper \n",
    "// \"Expressive Voting and its Cost: Evidence from Runoffs With Two or Three Candidates\"\n",
    "// Econometrica 2018\n",
    "//https://www.econometricsociety.org/publications/econometrica/2018/09/01/expressive-voting-and-its-cost-evidence-runoffs-two-or-three"
   ]
  },
  {
   "cell_type": "code",
   "execution_count": null,
   "id": "e2299ac8",
   "metadata": {},
   "outputs": [],
   "source": [
    "%%stata\n",
    "\n",
    "use analysis.dta, clear"
   ]
  },
  {
   "cell_type": "code",
   "execution_count": null,
   "id": "f751a37e",
   "metadata": {
    "scrolled": true
   },
   "outputs": [],
   "source": [
    "%%stata\n",
    "\n",
    "keep prop_registered_turnout_R2 running treatment assignment prop_registered_blanknull_R2 ///\n",
    "prop_registered_candvotes_R2 year prop_registered_votes_cand3_R1\n",
    "\n",
    "rename prop_registered_votes_cand3_R1 running_uncentered\n",
    "rename prop_registered_turnout_R2 turnout\n",
    "rename prop_registered_blanknull_R2 blanknull\n",
    "rename prop_registered_candvotes_R2 candvotes"
   ]
  },
  {
   "cell_type": "code",
   "execution_count": null,
   "id": "1bf26a6f",
   "metadata": {
    "scrolled": true
   },
   "outputs": [],
   "source": [
    "%%stata\n",
    "\n",
    "// Let's plot some stuff so we get an idea of what's happening\n",
    "// First, the \"first stage\"\n",
    "rdplot treatment running, p(1) graph_options(title(\"\") ///\n",
    "    ytitle(Treatment status) xtitle(Running variable) graphregion(color(white)) ///\n",
    "    legend(off) ylabel(0 (.2) 1) xlabel(-.1 (.05) .1))) nbins(20 20)\n",
    "// Note how we don't have perfect compliance. Not all candidates who get more than\n",
    "// 12.5% end up running in the second round"
   ]
  },
  {
   "cell_type": "code",
   "execution_count": null,
   "id": "70f8caa1",
   "metadata": {},
   "outputs": [],
   "source": [
    "%%stata\n",
    "\n",
    "// Second, let's look at one of the outcomes \n",
    "rdplot turnout running,  fuzzy(treatment) nbins(30 30) p(2). graph_options(title(\"\") legend(off) ///\n",
    "    ytitle(Candidate votes 2nd round) xtitle(Running variable) graphregion(color(white)) ylabel(.2(.2) 1) ///\n",
    "    xlabel(-.15 (.05) .15))) \n",
    "// They're using nbins to define the bin width "
   ]
  },
  {
   "cell_type": "code",
   "execution_count": null,
   "id": "3b9770d2",
   "metadata": {},
   "outputs": [],
   "source": [
    "%%stata\n",
    "\n",
    "// We can also add confidence intervals:\n",
    "rdplot turnout running,  fuzzy(treatment) nbins(30 30) p(2). graph_options(title(\"\") legend(off) ///\n",
    "    ytitle(Candidate votes 2nd round) xtitle(Running variable) graphregion(color(white)) ylabel(.2(.2) 1) ///\n",
    "    xlabel(-.15 (.05) .15))) ci(95) shade "
   ]
  },
  {
   "cell_type": "code",
   "execution_count": null,
   "id": "3edafa13",
   "metadata": {},
   "outputs": [],
   "source": [
    "%%stata \n",
    "\n",
    "rdplot turnout running,  nbins(30 30) p(2). graph_options(title(\"\") legend(off) ///\n",
    "    ytitle(Candidate votes 2nd round) xtitle(Running variable) graphregion(color(white)) ylabel(.2(.2) 1) ///\n",
    "    xlabel(-.15 (.05) .15)))\n",
    "// Here I just want to show that including the \"fuzzy\" option doesn't change anything here\n",
    "\n",
    "ereturn list\n"
   ]
  },
  {
   "cell_type": "code",
   "execution_count": null,
   "id": "4c20f860",
   "metadata": {},
   "outputs": [],
   "source": [
    "%%stata\n",
    "\n",
    "// Replicate and generate table 3, then add a panel below using the 2sls estimates\n",
    "eststo rdrob_turn: rdrobust turnout running, fuzzy(treatment) \n",
    "    estadd scalar obs=e(N_h_l)+e(N_h_r)\n",
    "    estadd scalar pval = e(pv_rb)\n",
    "    estadd scalar poly = e(p)\n",
    "    estadd scalar BW = e(h_r)\n",
    "    estadd local bws = e(bwselect)\n",
    "sum turnout if assignment==0 & abs(running)<= e(h_r)\n",
    "local mean_control=r(mean)\n",
    "    estadd scalar mean_con = `mean_control'"
   ]
  },
  {
   "cell_type": "code",
   "execution_count": null,
   "id": "d2c76779",
   "metadata": {},
   "outputs": [],
   "source": [
    "%%stata\n",
    "\n",
    "eststo rdrob_blank: rdrobust blanknull running, fuzzy(treatment) \n",
    "    estadd scalar obs=e(N_h_l)+e(N_h_r)\n",
    "    estadd scalar pval = e(pv_rb)\n",
    "    estadd scalar poly = e(p)\n",
    "    estadd scalar BW = e(h_r)\n",
    "    estadd local bws = e(bwselect)\n",
    "sum blanknull if assignment==0 & abs(running)<= e(h_r)\n",
    "local mean_control=r(mean)\n",
    "    estadd scalar mean_con = `mean_control'"
   ]
  },
  {
   "cell_type": "code",
   "execution_count": null,
   "id": "6b3510f3",
   "metadata": {},
   "outputs": [],
   "source": [
    "%%stata\n",
    "\n",
    "eststo rdrob_cand: rdrobust candvotes  running, fuzzy(treatment) \n",
    "    estadd scalar mean_control=r(mean)\n",
    "    estadd scalar obs=e(N_h_l)+e(N_h_r)\n",
    "    estadd scalar pval = e(pv_rb)\n",
    "    estadd scalar poly = e(p)\n",
    "    estadd scalar BW = e(h_r)\n",
    "    estadd local bws = e(bwselect)\n",
    "sum candvotes if assignment==0 & abs(running)<= e(h_r)\n",
    "local mean_control=r(mean)\n",
    "    estadd scalar mean_con = `mean_control'"
   ]
  },
  {
   "cell_type": "code",
   "execution_count": null,
   "id": "8a0993c9",
   "metadata": {},
   "outputs": [],
   "source": [
    "%%stata\n",
    "\n",
    "eststo rdrob_cand_yr: xi: rdrobust candvotes  running, fuzzy(treatment) covs(i.year)"
   ]
  },
  {
   "cell_type": "code",
   "execution_count": null,
   "id": "93bb3ca9",
   "metadata": {},
   "outputs": [],
   "source": [
    "%%stata\n",
    "\n",
    "ereturn list"
   ]
  },
  {
   "cell_type": "code",
   "execution_count": null,
   "id": "ed339955",
   "metadata": {},
   "outputs": [],
   "source": [
    "%%stata\n",
    "\n",
    "// Now I want to show you how to account for covariates in the rdrobust command\t\n",
    "eststo rdrob_cand_yr: xi: rdrobust candvotes  running, fuzzy(treatment) covs(i.year)\n",
    "    estadd scalar mean_control=r(mean)\n",
    "    estadd scalar obs=e(N_h_l)+e(N_h_r)\n",
    "    estadd scalar pval = e(pv_rb)\n",
    "    estadd scalar poly = e(p)\n",
    "    estadd scalar BW = e(h_r)\n",
    "    estadd local bws = e(bwselect)\n",
    "sum candvotes if assignment==0 & abs(running)<= e(h_r)\n",
    "local mean_control=r(mean)\n",
    "    estadd scalar mean_con = `mean_control'"
   ]
  },
  {
   "cell_type": "code",
   "execution_count": null,
   "id": "0431c6a5",
   "metadata": {},
   "outputs": [],
   "source": [
    "%%stata\n",
    "\n",
    "cd \"${latex}\"\n",
    "\n",
    "esttab rdrob_turn rdrob_blank rdrob_cand rdrob_cand_yr using \"table2.tex\",  sfmt(4) b(3) se(2) ///\n",
    "varlabel(RD_Estimate \"3rd. Present\") ///\n",
    "scalars(\"pval Robust p-value\" \"obs Observations\" \"poly Polyn. Order\" \"BW Bandwidth\" \"bws Band. method\" \"mean_con Mean, left of the threshold\") ///\n",
    "label mtitles(\"Turnout\" \"Null and Blank Votes\" \"Candidate Votes\") noobs compress ///\n",
    "posthead(\"\\hline \\\\ \\multicolumn{2}{c}{\\textbf{Panel A: RD Robust Estimates}}\\\\\\\\ [-1ex]\") ///\n",
    "fragment /// This fragment will allow you to append a second panel below\n",
    "replace\n",
    "\n",
    "// fragment tells stata that there will be more esttab's coming to append a table\n",
    "// noobs tells stata not to show the normal Observation count\n",
    "// compress : I don't know exactly what it does, but the tables look bad without it\n",
    "// posthead is some LaTex stuff that I don't really understand, but I copy and edit as I need it"
   ]
  },
  {
   "cell_type": "code",
   "execution_count": null,
   "id": "fcecb327",
   "metadata": {},
   "outputs": [],
   "source": [
    "%%stata\n",
    "\n",
    "// Note here that you will have to make a choice of bandwidth. I chose 0.02, because there were still enough observations on both sides to get significant estimates (and it's close to the optimal bandwidth above)\n",
    "eststo iv_turn: ivreg2  turnout running (treatment  = assignment) if running >= -0.02 & running <= 0.02\n",
    "\n",
    "eststo iv_blank: ivreg2  blanknull running (treatment  = assignment) ///\n",
    "if running >= -0.02 & running <= 0.02\n",
    "\n",
    "eststo iv_cand_year: ivreg2  candvotes running (treatment  = assignment) ///\n",
    "if running >= -0.02 & running <= 0.02\n",
    "\n",
    "eststo iv_cand_year2: xi: ivreg2 candvotes running (treatment  = assignment) ///\n",
    "i.year if running >= -0.02 & running <= 0.02\n"
   ]
  },
  {
   "cell_type": "code",
   "execution_count": null,
   "id": "db010164",
   "metadata": {
    "scrolled": false
   },
   "outputs": [],
   "source": [
    "%%stata\n",
    "\n",
    "esttab iv_* using \"table2.tex\", sfmt(4) b(3) se(2) keep(treatment) varlabel(treatment \"3rd. Present\") /// \n",
    "nomtitles booktabs nonumbers compress ///\n",
    "posthead(\"\\hline \\\\ \\multicolumn{2}{c}{\\textbf{Panel B: IV Estimates}}\\\\\\\\ [-1ex] \") ///\n",
    "fragment ///\n",
    "append \n",
    "\n",
    "// append here is the key that forces these estimates into the table we previously created, and called \"using ...\"\n",
    "// nonumbers takes out the column numbers, which we don't need because we already have them in the table above\n"
   ]
  },
  {
   "cell_type": "code",
   "execution_count": null,
   "id": "a83ec834",
   "metadata": {},
   "outputs": [],
   "source": []
  },
  {
   "cell_type": "code",
   "execution_count": null,
   "id": "1c3320f4",
   "metadata": {},
   "outputs": [],
   "source": []
  },
  {
   "cell_type": "code",
   "execution_count": null,
   "id": "e76483c4",
   "metadata": {},
   "outputs": [],
   "source": []
  }
 ],
 "metadata": {
  "kernelspec": {
   "display_name": "Python 3 (ipykernel)",
   "language": "python",
   "name": "python3"
  },
  "language_info": {
   "codemirror_mode": {
    "name": "ipython",
    "version": 3
   },
   "file_extension": ".py",
   "mimetype": "text/x-python",
   "name": "python",
   "nbconvert_exporter": "python",
   "pygments_lexer": "ipython3",
   "version": "3.10.5"
  },
  "varInspector": {
   "cols": {
    "lenName": 16,
    "lenType": 16,
    "lenVar": 40
   },
   "kernels_config": {
    "python": {
     "delete_cmd_postfix": "",
     "delete_cmd_prefix": "del ",
     "library": "var_list.py",
     "varRefreshCmd": "print(var_dic_list())"
    },
    "r": {
     "delete_cmd_postfix": ") ",
     "delete_cmd_prefix": "rm(",
     "library": "var_list.r",
     "varRefreshCmd": "cat(var_dic_list()) "
    }
   },
   "types_to_exclude": [
    "module",
    "function",
    "builtin_function_or_method",
    "instance",
    "_Feature"
   ],
   "window_display": false
  }
 },
 "nbformat": 4,
 "nbformat_minor": 5
}
